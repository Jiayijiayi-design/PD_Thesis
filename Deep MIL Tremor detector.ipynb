{
 "cells": [
  {
   "cell_type": "code",
   "execution_count": 6,
   "metadata": {},
   "outputs": [],
   "source": [
    "# imports\n",
    "import torch\n",
    "from torch.autograd import Variable\n",
    "from torch.nn.parameter import Parameter\n",
    "import torch.nn as nn\n",
    "import torch.nn.functional as F\n",
    "import torch.optim as optim\n",
    "import torch.nn.init as init\n",
    "\n",
    "from torch.nn import Linear, Conv2d, BatchNorm2d, MaxPool2d, Dropout\n",
    "from torch.nn.functional import relu, elu, relu6, sigmoid, tanh, softmax\n",
    "from sklearn.metrics import accuracy_score\n",
    "import torch.optim as optim"
   ]
  },
  {
   "cell_type": "code",
   "execution_count": 8,
   "metadata": {},
   "outputs": [
    {
     "name": "stdout",
     "output_type": "stream",
     "text": [
      "Net(\n",
      "  (featureExtract): Sequential(\n",
      "    (0): Conv1d(500, 32, kernel_size=(8,), stride=(1,), padding=(1,))\n",
      "    (1): LeakyReLU(negative_slope=0.2)\n",
      "    (2): MaxPool1d(kernel_size=2, stride=2, padding=0, dilation=1, ceil_mode=False)\n",
      "    (3): Conv1d(32, 32, kernel_size=(8,), stride=(1,), padding=(1,))\n",
      "    (4): LeakyReLU(negative_slope=0.2)\n",
      "    (5): MaxPool1d(kernel_size=2, stride=2, padding=0, dilation=1, ceil_mode=False)\n",
      "    (6): Conv1d(10, 16, kernel_size=(3,), stride=(1,), padding=(1,))\n",
      "    (7): LeakyReLU(negative_slope=0.2)\n",
      "    (8): MaxPool1d(kernel_size=2, stride=2, padding=0, dilation=1, ceil_mode=False)\n",
      "    (9): Conv1d(10, 16, kernel_size=(3,), stride=(1,), padding=(1,))\n",
      "    (10): LeakyReLU(negative_slope=0.2)\n",
      "    (11): MaxPool1d(kernel_size=2, stride=2, padding=0, dilation=1, ceil_mode=False)\n",
      "    (12): Linear(in_features=320, out_features=64, bias=True)\n",
      "  )\n",
      "  (attention): Sequential(\n",
      "    (0): Linear(in_features=500, out_features=128, bias=True)\n",
      "    (1): Tanh()\n",
      "    (2): Linear(in_features=128, out_features=1, bias=True)\n",
      "  )\n",
      "  (classify): Sequential(\n",
      "    (0): Linear(in_features=64, out_features=32, bias=True)\n",
      "    (1): LeakyReLU(negative_slope=0.2)\n",
      "    (2): Dropout(p=0.2, inplace=False)\n",
      "    (3): Linear(in_features=32, out_features=16, bias=True)\n",
      "    (4): LeakyReLU(negative_slope=0.2)\n",
      "    (5): Dropout(p=0.2, inplace=False)\n",
      "    (6): Linear(in_features=16, out_features=2, bias=True)\n",
      "  )\n",
      ")\n"
     ]
    }
   ],
   "source": [
    "# Define model\n",
    "class Net(nn.Module):\n",
    "    def __init__(self):\n",
    "        super(Net, self).__init__()\n",
    "        \n",
    "        self.L = 500\n",
    "        self.D = 128\n",
    "        self.K = 1\n",
    "        self.M = 64 \n",
    "        ## feature extraction \n",
    "        self.featureExtract = nn.Sequential(nn.Conv1d(in_channels = 1 , out_channels = 32, kernel_size=8, padding =1, stride = 1),\n",
    "                                            nn.LeakyReLU(negative_slope=0.2), \n",
    "                                            nn.MaxPool1d(2),\n",
    "                                            nn.Conv1d(in_channels = 32,out_channels = 32*32, kernel_size=8, padding =1, stride = 1),\n",
    "                                            nn.LeakyReLU(negative_slope=0.2),\n",
    "                                            nn.MaxPool1d(2),\n",
    "                                            nn.Conv1d(in_channels = 32*32, out_channels = 32*32*16, kernel_size=3, padding =1, stride = 1),\n",
    "                                            nn.LeakyReLU(negative_slope=0.2),\n",
    "                                            nn.MaxPool1d(2),\n",
    "                                            nn.Conv1d(in_channels = 10, out_channels = 16, kernel_size=3, padding =1, stride = 1), \n",
    "                                            nn.LeakyReLU(negative_slope=0.2),\n",
    "                                            nn.MaxPool1d(2),\n",
    "                                            nn.Linear(320, self.M)) \n",
    "\n",
    "        self.attention = nn.Sequential(nn.Linear(self.L, self.D),\n",
    "                                       nn.Tanh(),\n",
    "                                       nn.Linear(self.D, self.K))\n",
    "                \n",
    "        self.classify = nn.Sequential(nn.Linear(self.M,32), \n",
    "                                      nn.LeakyReLU(negative_slope=0.2),\n",
    "                                      Dropout(p = 0.2, inplace = False), \n",
    "                                      nn.Linear(32,16),\n",
    "                                      nn.LeakyReLU(negative_slope=0.2),\n",
    "                                      Dropout(p = 0.2, inplace = False), \n",
    "                                      nn.Linear(16,2), )\n",
    "    \n",
    "    def forward(self, x):\n",
    "        ## feature extraction\n",
    "        H = self.featureExtract(x)\n",
    "        A = self.attention(H)\n",
    "        A = torch.transpose(A,1,0)\n",
    "        A = nn.softmax(A, dim = 1)\n",
    "        M = torch.mm(A,H)\n",
    "                         \n",
    "            \n",
    "        y_p = self.classify(M)\n",
    "        y_hat = torch.ge(y_p,0.5).float()\n",
    "        \n",
    "        \n",
    "        return x\n",
    "\n",
    "    \n",
    "net = Net()\n",
    "print(net)    "
   ]
  },
  {
   "cell_type": "code",
   "execution_count": null,
   "metadata": {},
   "outputs": [],
   "source": [
    "# after the model finish training, save and load\n",
    "# torch.save(the_model, PATH)\n",
    "# the_model = torch.load(PATH)\n"
   ]
  }
 ],
 "metadata": {
  "kernelspec": {
   "display_name": "Python 3",
   "language": "python",
   "name": "python3"
  },
  "language_info": {
   "codemirror_mode": {
    "name": "ipython",
    "version": 3
   },
   "file_extension": ".py",
   "mimetype": "text/x-python",
   "name": "python",
   "nbconvert_exporter": "python",
   "pygments_lexer": "ipython3",
   "version": "3.8.5"
  }
 },
 "nbformat": 4,
 "nbformat_minor": 4
}
