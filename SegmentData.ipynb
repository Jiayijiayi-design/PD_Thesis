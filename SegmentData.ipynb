{
 "cells": [
  {
   "cell_type": "code",
   "execution_count": 54,
   "metadata": {},
   "outputs": [],
   "source": [
    "import time\n",
    "import os\n",
    "from os import listdir\n",
    "from os.path import join, isfile\n",
    "\n",
    "import numpy as np\n",
    "import numpy.matlib\n",
    "import pandas as pd\n",
    "\n",
    "import torch\n",
    "import matplotlib.pyplot as plt\n",
    "import glob"
   ]
  },
  {
   "cell_type": "code",
   "execution_count": 2,
   "metadata": {},
   "outputs": [],
   "source": [
    "pt  = '110001'\n",
    "trialData = np.load(join('data/npy_csv', pt + '_trials.npy')).astype(np.float64)\n",
    "# transform into tensor\n",
    "b = torch.from_numpy(trialData)"
   ]
  },
  {
   "cell_type": "code",
   "execution_count": 3,
   "metadata": {},
   "outputs": [],
   "source": [
    "windowLength = 5\n",
    "sr = 100\n",
    "numWindows = int(b.shape[1]/sr/windowLength)"
   ]
  },
  {
   "cell_type": "code",
   "execution_count": 74,
   "metadata": {},
   "outputs": [],
   "source": [
    "paths = glob.glob('data/npy_csv/*_trials.npy')\n",
    "\n",
    "for p in paths:\n",
    "    \n",
    "    trialData = np.load(p).astype(np.float64)\n",
    "    # transform into tensor\n",
    "    b = torch.from_numpy(trialData)\n",
    "    \n",
    "    \n",
    "    a = torch.empty((b.shape[0],numWindows,int(b.shape[1]/numWindows),18))\n",
    "    for i in range(a.shape[3]): \n",
    "        rB = torch.reshape(b[:,:,i], (b.shape[0],numWindows,int(b.shape[1]/numWindows)))\n",
    "        a[:,:,:,i] = rB \n",
    "    \n",
    "    \n",
    "    np.save(os.path.join('data/npy_sec','5sec_'+p[-17:]), a)"
   ]
  },
  {
   "cell_type": "code",
   "execution_count": 47,
   "metadata": {},
   "outputs": [],
   "source": []
  },
  {
   "cell_type": "code",
   "execution_count": 77,
   "metadata": {},
   "outputs": [],
   "source": [
    "soto = np.load('data/npy_sec/5sec_110001_trials.npy').astype(np.float64)"
   ]
  }
 ],
 "metadata": {
  "kernelspec": {
   "display_name": "Python 3",
   "language": "python",
   "name": "python3"
  },
  "language_info": {
   "codemirror_mode": {
    "name": "ipython",
    "version": 3
   },
   "file_extension": ".py",
   "mimetype": "text/x-python",
   "name": "python",
   "nbconvert_exporter": "python",
   "pygments_lexer": "ipython3",
   "version": "3.8.5"
  }
 },
 "nbformat": 4,
 "nbformat_minor": 4
}
