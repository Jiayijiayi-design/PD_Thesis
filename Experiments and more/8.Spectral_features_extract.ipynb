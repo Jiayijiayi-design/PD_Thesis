{
 "cells": [
  {
   "cell_type": "code",
   "execution_count": 1,
   "metadata": {},
   "outputs": [],
   "source": [
    "# Loading \n",
    "import glob \n",
    "import pandas as pd \n",
    "from scipy import signal\n",
    "import matplotlib.pyplot as plt\n",
    "import numpy as np\n",
    "from scipy.signal import butter, lfilter, hilbert, chirp\n",
    "from itertools import islice \n",
    "from matplotlib.font_manager import FontProperties\n",
    "from sklearn.preprocessing import scale, normalize\n",
    "from scipy.signal import welch\n",
    "import torch\n",
    "from scipy.stats import kurtosis\n",
    "import antropy as ant"
   ]
  },
  {
   "cell_type": "code",
   "execution_count": 2,
   "metadata": {},
   "outputs": [
    {
     "name": "stdout",
     "output_type": "stream",
     "text": [
      "PD-subject filenames    10_110011.npy\n",
      "binary                   1\n",
      "Name: 10, dtype: object\n",
      "(180, 500, 12)\n"
     ]
    }
   ],
   "source": [
    "# load test data into the project\n",
    "labels = pd.read_csv('data/bagData/Labels_all.csv')\n",
    "idx = 10\n",
    "filename = labels.iloc[idx]['filenames']\n",
    "\n",
    "test_data = np.load('data/bagData/'+filename).astype(np.float64)\n",
    "\n",
    "print('PD-subject',labels.iloc[idx])\n",
    "print(test_data.shape)"
   ]
  },
  {
   "cell_type": "markdown",
   "metadata": {},
   "source": [
    "## Try the method:"
   ]
  },
  {
   "cell_type": "code",
   "execution_count": 47,
   "metadata": {},
   "outputs": [],
   "source": [
    "def feq_extract(test_data):\n",
    "    fs = 100 \n",
    "    a = np.zeros((180,76))\n",
    "    for k in range(180):\n",
    "        summing = 0\n",
    "        for i in range(12):\n",
    "            f, spec = welch(test_data[k,:,i], fs=fs, nperseg=300, noverlap=int(0.75*300))\n",
    "            summing += spec[f<=25]\n",
    "        a[k,:] = summing\n",
    "    return a    \n",
    "    "
   ]
  },
  {
   "cell_type": "markdown",
   "metadata": {},
   "source": [
    "## Real loop:"
   ]
  },
  {
   "cell_type": "code",
   "execution_count": 48,
   "metadata": {},
   "outputs": [],
   "source": [
    "labels = pd.read_csv('data/bagData/Labels_all.csv')\n",
    "for idx in range(len(labels)):\n",
    "        filename = labels.iloc[idx]['filenames']\n",
    "        data = np.load('data/bagData/'+filename).astype(np.float64)\n",
    "        a = feq_extract(data)\n",
    "        np.save('data/freq_domain/'+'freq_'+filename, a)"
   ]
  },
  {
   "cell_type": "code",
   "execution_count": null,
   "metadata": {},
   "outputs": [],
   "source": []
  }
 ],
 "metadata": {
  "kernelspec": {
   "display_name": "Python 3",
   "language": "python",
   "name": "python3"
  },
  "language_info": {
   "codemirror_mode": {
    "name": "ipython",
    "version": 3
   },
   "file_extension": ".py",
   "mimetype": "text/x-python",
   "name": "python",
   "nbconvert_exporter": "python",
   "pygments_lexer": "ipython3",
   "version": "3.8.5"
  }
 },
 "nbformat": 4,
 "nbformat_minor": 4
}
