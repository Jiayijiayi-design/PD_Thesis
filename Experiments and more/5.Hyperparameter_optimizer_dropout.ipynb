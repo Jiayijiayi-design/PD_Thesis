{
 "cells": [
  {
   "cell_type": "code",
   "execution_count": 23,
   "metadata": {},
   "outputs": [],
   "source": [
    "import pickle\n",
    "import numpy as np\n",
    "import matplotlib.pyplot as plt\n",
    "import glob\n",
    "import seaborn as sns"
   ]
  },
  {
   "cell_type": "code",
   "execution_count": 24,
   "metadata": {},
   "outputs": [],
   "source": [
    "def ConvertCV(foldperf):\n",
    "    testl_f = np.zeros((5,100))\n",
    "    tl_f= np.zeros((5,100))\n",
    "    testa_f= np.zeros((5,100))\n",
    "    ta_f= np.zeros((5,100))\n",
    "    k=5\n",
    "    for f in range(1,k+1):\n",
    "        tl_f[f-1,:] = foldperf['fold{}'.format(f)]['train_loss']\n",
    "        ta_f[f-1,:] = foldperf['fold{}'.format(f)]['train_acc']\n",
    "        testl_f[f-1,:]=foldperf['fold{}'.format(f)]['test_loss']\n",
    "        testa_f[f-1,:]=foldperf['fold{}'.format(f)]['test_acc']\n",
    "    cv_test_l = np.mean(testl_f,axis=0) \n",
    "    cv_test_ac = np.mean(testa_f,axis=0) \n",
    "    cv_train_l = np.mean(tl_f,axis=0) \n",
    "    cv_train_ac = np.mean(ta_f,axis=0) \n",
    "    return cv_train_l, cv_test_l, cv_train_ac, cv_test_ac"
   ]
  },
  {
   "cell_type": "code",
   "execution_count": 25,
   "metadata": {},
   "outputs": [],
   "source": [
    "#a_file = open(\"/Users/jiayihan/Documents/ResultsThesis/GridSearchCV5Fold_/Adadelta_0.01.pkl\", \"rb\")\n",
    "#output= pickle.load(a_file)\n",
    "#cv_train_l, cv_test_l, cv_train_ac, cv_test_ac = ConvertCV(output) \n",
    "#plt.plot(cv_train_l)\n",
    "#plt.plot(cv_test_l)"
   ]
  },
  {
   "cell_type": "code",
   "execution_count": 58,
   "metadata": {},
   "outputs": [],
   "source": [
    "def CreateList(name):\n",
    "    LearningRates = glob.glob(\"/Users/jiayihan/Documents/ParamSearch/raw/GridSearchCV5Fold_/*\"+name+\"*.pkl\")\n",
    "    training_loss = []\n",
    "    test_loss = [] \n",
    "    for path in LearningRates:\n",
    "        a_file = open(path, \"rb\")\n",
    "        foldperf= pickle.load(a_file)\n",
    "        cv_train_l, cv_test_l, _, _ = ConvertCV(foldperf) \n",
    "        training_loss.append(cv_train_l)\n",
    "        test_loss.append(cv_test_l)\n",
    "    return training_loss, test_loss\n",
    "\n",
    "allNames_train = []\n",
    "allNames_test = []\n",
    "for name in ['Adadelta','RMSprop','SGD','Adam']:\n",
    "    train, test = CreateList(name)\n",
    "    allNames_train.append(train)\n",
    "    allNames_test.append(test)"
   ]
  },
  {
   "cell_type": "code",
   "execution_count": 80,
   "metadata": {},
   "outputs": [],
   "source": [
    "def DropCreateList(name):\n",
    "    LearningRates = glob.glob(\"/Users/jiayihan/Documents/ParamSearch/raw/GridSearchCV5Fold_/drop/*\"+name+\"*.pkl\")\n",
    "    training_loss = []\n",
    "    test_loss = [] \n",
    "    for path in LearningRates:\n",
    "        a_file = open(path, \"rb\")\n",
    "        foldperf= pickle.load(a_file)\n",
    "        cv_train_l, cv_test_l, _, _ = ConvertCV(foldperf) \n",
    "        training_loss.append(cv_train_l)\n",
    "        test_loss.append(cv_test_l)\n",
    "    return training_loss, test_loss"
   ]
  },
  {
   "cell_type": "code",
   "execution_count": 84,
   "metadata": {},
   "outputs": [],
   "source": [
    "## the overall\n",
    "alltrain, alltest = CreateList('')\n",
    "alltrainNo, alltestNo = DropCreateList('')"
   ]
  },
  {
   "cell_type": "code",
   "execution_count": 85,
   "metadata": {},
   "outputs": [],
   "source": [
    "alltrain=np.array(alltrain).flatten()      \n",
    "alltest=np.array(alltest).flatten()\n",
    "alltrainNo=np.array(alltrainNo).flatten()      \n",
    "alltestNo=np.array(alltestNo).flatten()    "
   ]
  },
  {
   "cell_type": "code",
   "execution_count": 92,
   "metadata": {},
   "outputs": [
    {
     "data": {
      "image/png": "[encoded data removed]",
      "text/plain": [
       "<Figure size 720x432 with 2 Axes>"
      ]
     },
     "metadata": {
      "needs_background": "light"
     },
     "output_type": "display_data"
    }
   ],
   "source": [
    "fig=plt.figure(figsize=(10,6))\n",
    "\n",
    "plt.subplot(1,2,1)\n",
    "ax = sns.boxplot(y=alltest)\n",
    "ax.set(ylim=(0.6, 0.9))\n",
    "ax.set_ylabel('Loss')\n",
    "ax.set_title('No drop-out')\n",
    "\n",
    "plt.subplot(1,2,2)\n",
    "ax = sns.boxplot(y=alltestNo)\n",
    "ax.set(ylim=(0.6, 0.9))\n",
    "ax.set_title('With drop-out')\n",
    "fig.savefig('/Users/jiayihan/OneDrive - Danmarks Tekniske Universitet/Thesis/Thesis_figures/Dropout.png')"
   ]
  },
  {
   "cell_type": "code",
   "execution_count": 89,
   "metadata": {},
   "outputs": [
    {
     "name": "stdout",
     "output_type": "stream",
     "text": [
      "0.6436268593558021\n"
     ]
    }
   ],
   "source": [
    "print(np.min(alltestNo))"
   ]
  },
  {
   "cell_type": "code",
   "execution_count": 91,
   "metadata": {},
   "outputs": [
    {
     "name": "stdout",
     "output_type": "stream",
     "text": [
      "0.6481944898428665\n"
     ]
    }
   ],
   "source": [
    "print(np.min(alltest))"
   ]
  },
  {
   "cell_type": "code",
   "execution_count": 65,
   "metadata": {},
   "outputs": [
    {
     "data": {
      "text/plain": [
       "array([0.68918031, 0.6876059 , 0.68677589, 0.68635364, 0.68380456,\n",
       "       0.6743671 , 0.65802701, 0.65078124, 0.63682432, 0.62815399,\n",
       "       0.61684995, 0.60322989, 0.59671872, 0.58147497, 0.57443433,\n",
       "       0.56791628, 0.56661048, 0.55397055, 0.56358282, 0.54839698,\n",
       "       0.53870287, 0.53858375, 0.52636075, 0.52484617, 0.52696941,\n",
       "       0.51341526, 0.51169366, 0.50057771, 0.509465  , 0.4976679 ,\n",
       "       0.49062844, 0.54587027, 0.56089475, 0.54695708, 0.55137783,\n",
       "       0.5434372 , 0.53782658, 0.53521801, 0.52142293, 0.49284762,\n",
       "       0.49495879, 0.48964543, 0.46850878, 0.46445786, 0.4733048 ,\n",
       "       0.47000938, 0.48246068, 0.47668209, 0.46324839, 0.45879678,\n",
       "       0.45432079, 0.45759903, 0.46148475, 0.45411798, 0.4582163 ,\n",
       "       0.44573966, 0.4434559 , 0.47303671, 0.45342809, 0.44227685,\n",
       "       0.45236345, 0.4426928 , 0.45759593, 0.43547146, 0.43560387,\n",
       "       0.43479385, 0.44981327, 0.44312926, 0.43751128, 0.42908233,\n",
       "       0.43575633, 0.43737171, 0.43526332, 0.43116166, 0.42124217,\n",
       "       0.42604567, 0.42731843, 0.44230322, 0.43739712, 0.42897053,\n",
       "       0.42781893, 0.4238373 , 0.43307539, 0.42095999, 0.42369536,\n",
       "       0.42384901, 0.42485761, 0.41250522, 0.42833543, 0.4227139 ,\n",
       "       0.41745066, 0.42228252, 0.42215344, 0.42067251, 0.42606161,\n",
       "       0.42191832, 0.41694148, 0.41653122, 0.41846428, 0.41701781,\n",
       "       0.69761267, 0.68669783, 0.68439646, 0.68246534, 0.68032444,\n",
       "       0.67563642, 0.65994485, 0.63622616, 0.60942206, 0.59528902,\n",
       "       0.56430232, 0.54357032, 0.5344603 , 0.52174403, 0.50315234,\n",
       "       0.49904194, 0.48584898, 0.47569078, 0.47396297, 0.4755769 ,\n",
       "       0.47436566, 0.45518909, 0.45002776, 0.4487801 , 0.44820598,\n",
       "       0.42920239, 0.43822461, 0.45329965, 0.43580512, 0.42427939,\n",
       "       0.42995886, 0.43265048, 0.42395843, 0.41997084, 0.42659719,\n",
       "       0.41857255, 0.43666399, 0.432548  , 0.42648707, 0.4120954 ,\n",
       "       0.41670722, 0.4117033 , 0.42073569, 0.43732345, 0.41775344,\n",
       "       0.40939163, 0.39879573, 0.40817761, 0.41168002, 0.40202527,\n",
       "       0.39916588, 0.39385561, 0.38579778, 0.39580406, 0.39025214,\n",
       "       0.3980074 , 0.38777214, 0.38956308, 0.38849901, 0.39569902,\n",
       "       0.39147634, 0.38545755, 0.38943982, 0.38317814, 0.40266138,\n",
       "       0.39472578, 0.38327667, 0.3864067 , 0.38141616, 0.38313275,\n",
       "       0.38031385, 0.38972075, 0.38483105, 0.37651608, 0.36682781,\n",
       "       0.38278979, 0.3833146 , 0.37577818, 0.37940272, 0.38217177,\n",
       "       0.37344821, 0.37876147, 0.38920957, 0.36969103, 0.36602935,\n",
       "       0.36524914, 0.36997126, 0.36850372, 0.36851535, 0.37846612,\n",
       "       0.38623237, 0.37624217, 0.37126719, 0.36359678, 0.36308018,\n",
       "       0.37320529, 0.37288709, 0.36605101, 0.36553778, 0.36822655,\n",
       "       0.69242529, 0.69119687, 0.69050435, 0.68865668, 0.6876601 ,\n",
       "       0.68120656, 0.677171  , 0.66782575, 0.66134974, 0.65024629,\n",
       "       0.63916116, 0.62515717, 0.61660599, 0.61089954, 0.59394834,\n",
       "       0.59315175, 0.58884604, 0.57440129, 0.56896684, 0.55752739,\n",
       "       0.55181588, 0.55777753, 0.5499353 , 0.55143112, 0.54841676,\n",
       "       0.53589   , 0.53119509, 0.52588196, 0.53573917, 0.53008488,\n",
       "       0.5220919 , 0.52606625, 0.51686769, 0.52709764, 0.51179711,\n",
       "       0.50495852, 0.49983535, 0.502984  , 0.50602822, 0.49810792,\n",
       "       0.50148113, 0.49804834, 0.49293478, 0.49285685, 0.50271713,\n",
       "       0.493775  , 0.49183858, 0.48988302, 0.48606935, 0.47442899,\n",
       "       0.48720605, 0.48978646, 0.48723334, 0.47980147, 0.48225763,\n",
       "       0.47118435, 0.46430344, 0.47620971, 0.47858083, 0.47828651,\n",
       "       0.47830614, 0.46902303, 0.48452197, 0.50112631, 0.46324495,\n",
       "       0.47859458, 0.48749523, 0.4755009 , 0.48747751, 0.47671853,\n",
       "       0.46889677, 0.47570098, 0.48787434, 0.47452731, 0.46258995,\n",
       "       0.45380142, 0.4653037 , 0.46605909, 0.46938065, 0.45424081,\n",
       "       0.45517029, 0.44745977, 0.46224335, 0.46351424, 0.46216974,\n",
       "       0.47564232, 0.4538928 , 0.44169111, 0.45699081, 0.44918903,\n",
       "       0.4602786 , 0.43811813, 0.44309946, 0.44590382, 0.43840871,\n",
       "       0.43112132, 0.44548393, 0.4526459 , 0.4333116 , 0.45642701,\n",
       "       0.69098602, 0.69048336, 0.68806676, 0.6824069 , 0.67834112,\n",
       "       0.67423217, 0.66344105, 0.66025677, 0.65578314, 0.6496834 ,\n",
       "       0.64470128, 0.64377237, 0.63677358, 0.63486991, 0.62396224,\n",
       "       0.62134278, 0.60873938, 0.60749725, 0.60038655, 0.59209406,\n",
       "       0.59725248, 0.61256215, 0.59900412, 0.58861206, 0.57270277,\n",
       "       0.56960126, 0.56731459, 0.5595154 , 0.56375107, 0.56281806,\n",
       "       0.55851399, 0.53906472, 0.54926882, 0.5417183 , 0.54188411,\n",
       "       0.53993779, 0.53789031, 0.52993698, 0.53022528, 0.52661754,\n",
       "       0.5185015 , 0.51118911, 0.51842771, 0.51271032, 0.50367216,\n",
       "       0.51001079, 0.51162121, 0.50911096, 0.50264808, 0.49342001,\n",
       "       0.50120556, 0.48718312, 0.49292713, 0.48068088, 0.48956127,\n",
       "       0.49554406, 0.4887389 , 0.48929344, 0.48173522, 0.49112421,\n",
       "       0.48095048, 0.47802004, 0.47169033, 0.47444541, 0.47818658,\n",
       "       0.45857458, 0.47108615, 0.46293874, 0.4771844 , 0.48209879,\n",
       "       0.47089013, 0.46761335, 0.45169103, 0.45021207, 0.45695909,\n",
       "       0.4593675 , 0.45541907, 0.44666977, 0.45685495, 0.45889807,\n",
       "       0.4505107 , 0.46171042, 0.46409339, 0.46447523, 0.46893406,\n",
       "       0.45117587, 0.44325406, 0.45716466, 0.44866183, 0.46045794,\n",
       "       0.45423848, 0.44428268, 0.44138186, 0.44821837, 0.45513069,\n",
       "       0.4515088 , 0.44459543, 0.4361657 , 0.44762766, 0.4549755 ,\n",
       "       0.69007032, 0.68906313, 0.68792429, 0.68713942, 0.68529439,\n",
       "       0.68266481, 0.68045752, 0.67532135, 0.66825831, 0.65921461,\n",
       "       0.64858653, 0.64024525, 0.63462045, 0.62665421, 0.6137202 ,\n",
       "       0.61496325, 0.59570946, 0.59065393, 0.58317628, 0.57524775,\n",
       "       0.56861012, 0.56664896, 0.56185445, 0.55535012, 0.54601408,\n",
       "       0.54780927, 0.54360819, 0.54634716, 0.53515829, 0.53104385,\n",
       "       0.52756508, 0.51783615, 0.52209882, 0.52041234, 0.55851088,\n",
       "       0.5541063 , 0.5247973 , 0.51287426, 0.51233123, 0.50186195,\n",
       "       0.5037408 , 0.49743657, 0.49958076, 0.48670443, 0.49546214,\n",
       "       0.48847756, 0.49517322, 0.47910166, 0.49084633, 0.48667917,\n",
       "       0.48951441, 0.47428691, 0.48767325, 0.49378389, 0.47883219,\n",
       "       0.47661164, 0.46930989, 0.48284851, 0.47140957, 0.48183783,\n",
       "       0.48154999, 0.4673749 , 0.45953195, 0.45671528, 0.45735176,\n",
       "       0.46037937, 0.52206414, 0.51654454, 0.51853306, 0.51581511,\n",
       "       0.5059482 , 0.49684025, 0.50384674, 0.49887019, 0.50189718,\n",
       "       0.50676484, 0.49177766, 0.48864185, 0.48103371, 0.46415264,\n",
       "       0.46527714, 0.45569978, 0.45043446, 0.44516888, 0.45037634,\n",
       "       0.44946872, 0.43882931, 0.44870654, 0.4637035 , 0.45043547,\n",
       "       0.44196181, 0.45004279, 0.44123521, 0.43342712, 0.44499842,\n",
       "       0.43820874, 0.44062296, 0.43190648, 0.44588249, 0.42704025])"
      ]
     },
     "execution_count": 65,
     "metadata": {},
     "output_type": "execute_result"
    }
   ],
   "source": [
    "Adadelta_ = np.array(allNames_train[0])\n",
    "Adadelta_.flatten()\n",
    "\n",
    "RMSprop_ = np.array(allNames_train[1])\n",
    "RMSprop_.flatten()                 \n",
    "                     \n",
    "SGD_ = np.array(allNames_train[2])\n",
    "SGD_.flatten()     \n",
    "\n",
    "Adam_ = np.array(allNames_train[3])\n",
    "Adam_.flatten()    "
   ]
  },
  {
   "cell_type": "code",
   "execution_count": 66,
   "metadata": {},
   "outputs": [
    {
     "data": {
      "text/plain": [
       "array([0.68514862, 0.69158997, 0.68958277, 0.68300289, 0.68385436,\n",
       "       0.67937308, 0.67356244, 0.6726197 , 0.66499181, 0.67144156,\n",
       "       0.67614584, 0.67399082, 0.68528789, 0.67794359, 0.69916068,\n",
       "       0.71056233, 0.71726681, 0.71719904, 0.70754005, 0.69309013,\n",
       "       0.6840942 , 0.69774968, 0.70518487, 0.69100094, 0.69219874,\n",
       "       0.69967501, 0.68714703, 0.68931793, 0.68415545, 0.68720516,\n",
       "       0.69011381, 0.70067442, 0.70054218, 0.70136569, 0.71120438,\n",
       "       0.69904073, 0.70287599, 0.70430175, 0.70340188, 0.6933499 ,\n",
       "       0.70346559, 0.68936922, 0.70330403, 0.68856676, 0.69444533,\n",
       "       0.69272377, 0.69733393, 0.70478361, 0.70308112, 0.68614569,\n",
       "       0.70689701, 0.68971241, 0.69754247, 0.71406026, 0.69797111,\n",
       "       0.70789043, 0.71144809, 0.69582686, 0.715731  , 0.71268308,\n",
       "       0.69320319, 0.71173789, 0.69586914, 0.70001226, 0.70259931,\n",
       "       0.69931373, 0.70703277, 0.71002336, 0.69987605, 0.70243362,\n",
       "       0.70403099, 0.71039294, 0.70944781, 0.69697934, 0.71135466,\n",
       "       0.71758767, 0.70973598, 0.71310313, 0.72438322, 0.71345789,\n",
       "       0.71426046, 0.7093409 , 0.71161374, 0.70514811, 0.70952852,\n",
       "       0.73375632, 0.71040617, 0.71143031, 0.71136529, 0.7061036 ,\n",
       "       0.70621465, 0.71033698, 0.69304444, 0.70944515, 0.71394169,\n",
       "       0.7128757 , 0.70416629, 0.71901866, 0.70415409, 0.70569847,\n",
       "       0.68761011, 0.68699987, 0.67990663, 0.68682402, 0.68354958,\n",
       "       0.67745737, 0.67656098, 0.66175616, 0.66394824, 0.67857332,\n",
       "       0.64819449, 0.67091502, 0.69237265, 0.69001877, 0.68829968,\n",
       "       0.70240901, 0.67501387, 0.70111561, 0.6823434 , 0.67709086,\n",
       "       0.67518577, 0.70276377, 0.70291812, 0.71014832, 0.70306737,\n",
       "       0.70949611, 0.67784381, 0.7018032 , 0.70756801, 0.69851876,\n",
       "       0.70692554, 0.70581523, 0.70431097, 0.68854507, 0.71002651,\n",
       "       0.69542001, 0.72210171, 0.72120082, 0.69375426, 0.69361759,\n",
       "       0.70070351, 0.68001622, 0.7012768 , 0.70806234, 0.69982396,\n",
       "       0.68321552, 0.70261744, 0.70976725, 0.67942013, 0.70821399,\n",
       "       0.69435058, 0.7044949 , 0.70612417, 0.70423117, 0.70945676,\n",
       "       0.70174342, 0.7139211 , 0.68593416, 0.6983775 , 0.70813379,\n",
       "       0.73419454, 0.69340782, 0.69483313, 0.69551273, 0.69839239,\n",
       "       0.68984569, 0.72087964, 0.68767458, 0.69935686, 0.70990953,\n",
       "       0.69998372, 0.69409972, 0.70517389, 0.69263353, 0.68658151,\n",
       "       0.68884392, 0.69812386, 0.7096479 , 0.69850398, 0.69930278,\n",
       "       0.68982832, 0.72576783, 0.70961898, 0.70303068, 0.70199534,\n",
       "       0.68985146, 0.71961392, 0.71652181, 0.6910966 , 0.6954978 ,\n",
       "       0.67651235, 0.68472295, 0.70290767, 0.71011792, 0.68821424,\n",
       "       0.69983091, 0.67990225, 0.6911982 , 0.70137969, 0.70746708,\n",
       "       0.6855262 , 0.68920756, 0.68785082, 0.68741423, 0.68955143,\n",
       "       0.6814824 , 0.68040159, 0.69091968, 0.7039982 , 0.69379836,\n",
       "       0.69243235, 0.69706257, 0.71177842, 0.70059625, 0.70056912,\n",
       "       0.7243313 , 0.7204996 , 0.71438448, 0.71536986, 0.72160889,\n",
       "       0.73413117, 0.73436386, 0.73224317, 0.75665451, 0.73265315,\n",
       "       0.74449333, 0.73478613, 0.71929775, 0.71273992, 0.72908518,\n",
       "       0.70930055, 0.72195782, 0.73956821, 0.72689192, 0.7113401 ,\n",
       "       0.73213999, 0.72765742, 0.726139  , 0.76325947, 0.74472405,\n",
       "       0.742605  , 0.72151637, 0.7391553 , 0.71318425, 0.7526511 ,\n",
       "       0.72838086, 0.73527116, 0.73452281, 0.73110126, 0.73111388,\n",
       "       0.75060431, 0.73661248, 0.71726726, 0.72550385, 0.72809483,\n",
       "       0.73593302, 0.72721514, 0.73017165, 0.73614828, 0.73760493,\n",
       "       0.72197537, 0.75319826, 0.7505221 , 0.74973712, 0.73887226,\n",
       "       0.73131096, 0.76101617, 0.7344283 , 0.73434591, 0.74736962,\n",
       "       0.7622777 , 0.73782002, 0.73226806, 0.74274066, 0.73264674,\n",
       "       0.75029189, 0.75124403, 0.74430719, 0.73928283, 0.74699032,\n",
       "       0.73385303, 0.7519374 , 0.75039116, 0.7435433 , 0.73975295,\n",
       "       0.72810776, 0.74147531, 0.74709125, 0.73917233, 0.73931609,\n",
       "       0.7433916 , 0.75104204, 0.7467294 , 0.7284586 , 0.73919777,\n",
       "       0.73718033, 0.73145181, 0.73759288, 0.74602447, 0.72721894,\n",
       "       0.69142146, 0.69220893, 0.68933292, 0.69247044, 0.68800904,\n",
       "       0.68902633, 0.68744291, 0.69385422, 0.68211111, 0.68676329,\n",
       "       0.68584911, 0.68353617, 0.69213347, 0.6722613 , 0.67865574,\n",
       "       0.68675648, 0.71330753, 0.69382258, 0.72578717, 0.705392  ,\n",
       "       0.72403247, 0.71701808, 0.71483304, 0.71705282, 0.69647994,\n",
       "       0.70491394, 0.71462058, 0.71245583, 0.696529  , 0.7102083 ,\n",
       "       0.69803886, 0.7176265 , 0.7319402 , 0.71419822, 0.72127435,\n",
       "       0.7284144 , 0.71242326, 0.70718446, 0.70318577, 0.70518241,\n",
       "       0.70276345, 0.71378018, 0.7131358 , 0.71736476, 0.72289495,\n",
       "       0.73146728, 0.71715175, 0.71009251, 0.73147711, 0.71887318,\n",
       "       0.72101688, 0.72630995, 0.70334065, 0.6965919 , 0.71386062,\n",
       "       0.71500974, 0.69839143, 0.69452696, 0.70330379, 0.70793669,\n",
       "       0.70410104, 0.7034937 , 0.70836398, 0.69570447, 0.70841663,\n",
       "       0.7160581 , 0.71615502, 0.71412555, 0.71362628, 0.70655797,\n",
       "       0.70352604, 0.70389172, 0.69586324, 0.70922362, 0.70456736,\n",
       "       0.68376732, 0.70171871, 0.71219695, 0.72424901, 0.71542764,\n",
       "       0.70285877, 0.70992328, 0.69047837, 0.70630967, 0.71983379,\n",
       "       0.7102677 , 0.7064997 , 0.71063368, 0.71285087, 0.70519843,\n",
       "       0.69477573, 0.70153828, 0.69840306, 0.71868156, 0.70862533,\n",
       "       0.70440944, 0.69301824, 0.69692381, 0.70501477, 0.69647119,\n",
       "       0.70497589, 0.68614658, 0.70333487, 0.68652142, 0.69866003,\n",
       "       0.68793738, 0.68486776, 0.68150496, 0.71661194, 0.70103829,\n",
       "       0.69349557, 0.68227771, 0.69336671, 0.71172651, 0.7159413 ,\n",
       "       0.70055663, 0.70631687, 0.70782064, 0.68672716, 0.70772881,\n",
       "       0.72281738, 0.71540803, 0.7416749 , 0.7360585 , 0.71471932,\n",
       "       0.71059864, 0.7171106 , 0.7408698 , 0.72194025, 0.70277626,\n",
       "       0.72054525, 0.71948484, 0.7235694 , 0.72474131, 0.73427228,\n",
       "       0.73090575, 0.75165565, 0.73572328, 0.70445667, 0.74433674,\n",
       "       0.74650575, 0.72631722, 0.72629265, 0.74286686, 0.7172694 ,\n",
       "       0.75677804, 0.72978804, 0.74340698, 0.75930409, 0.7302687 ,\n",
       "       0.72746325, 0.73995914, 0.72436854, 0.72799654, 0.73472697,\n",
       "       0.75358964, 0.74162645, 0.73106713, 0.70834979, 0.73933864,\n",
       "       0.73094668, 0.72681949, 0.71583919, 0.71917549, 0.71945106,\n",
       "       0.72166466, 0.73439038, 0.7456311 , 0.73374637, 0.74190516,\n",
       "       0.72436939, 0.72352795, 0.74316532, 0.75670983, 0.73404058,\n",
       "       0.74263753, 0.73542622, 0.70248312, 0.7031542 , 0.70235202,\n",
       "       0.71505978, 0.75017357, 0.7042809 , 0.72422218, 0.70524276,\n",
       "       0.73278589, 0.72326646, 0.72809292, 0.70538638, 0.71390285,\n",
       "       0.71165085, 0.73795969, 0.75665132, 0.72557808, 0.71898805,\n",
       "       0.74422477, 0.71142005, 0.73318671, 0.72759842, 0.72690759])"
      ]
     },
     "execution_count": 66,
     "metadata": {},
     "output_type": "execute_result"
    }
   ],
   "source": [
    "Adadelta_t = np.array(allNames_test[0])\n",
    "Adadelta_t.flatten()\n",
    "\n",
    "RMSprop_t= np.array(allNames_test[1])\n",
    "RMSprop_t.flatten()                 \n",
    "                     \n",
    "SGD_t = np.array(allNames_test[2])\n",
    "SGD_t.flatten()          \n",
    "\n",
    "Adam_t = np.array(allNames_test[3])\n",
    "Adam_t.flatten()    "
   ]
  },
  {
   "cell_type": "code",
   "execution_count": 67,
   "metadata": {},
   "outputs": [
    {
     "data": {
      "text/plain": [
       "Text(0.5, 1.0, 'Adam')"
      ]
     },
     "execution_count": 67,
     "metadata": {},
     "output_type": "execute_result"
    },
    {
     "data": {
      "image/png": "[encoded data removed]",
      "text/plain": [
       "<Figure size 1080x432 with 4 Axes>"
      ]
     },
     "metadata": {
      "needs_background": "light"
     },
     "output_type": "display_data"
    }
   ],
   "source": [
    "fig=plt.figure(figsize=(15,6))\n",
    "plt.subplot(1,4,1)\n",
    "\n",
    "ax = sns.boxplot(y=SGD_)\n",
    "ax.set(ylim=(0, 1))\n",
    "ax.set_title('SGD')\n",
    "ax.set_ylabel('Loss')\n",
    "\n",
    "plt.subplot(1,4,2)\n",
    "ax = sns.boxplot(y=Adadelta_)\n",
    "ax.set(ylim=(0, 1))\n",
    "ax.set_title('AdaDelta')\n",
    "\n",
    "plt.subplot(1,4,3)\n",
    "ax = sns.boxplot(y=RMSprop_)\n",
    "ax.set(ylim=(0, 1))\n",
    "ax.set_title('RMSProp')\n",
    "\n",
    "plt.subplot(1,4,4)\n",
    "ax = sns.boxplot(y=Adam_)\n",
    "ax.set(ylim=(0, 1))\n",
    "ax.set_title('Adam')\n",
    "\n"
   ]
  },
  {
   "cell_type": "code",
   "execution_count": 93,
   "metadata": {},
   "outputs": [
    {
     "data": {
      "image/png": "[encoded data removed]",
      "text/plain": [
       "<Figure size 1080x432 with 4 Axes>"
      ]
     },
     "metadata": {
      "needs_background": "light"
     },
     "output_type": "display_data"
    }
   ],
   "source": [
    "fig=plt.figure(figsize=(15,6))\n",
    "\n",
    "plt.subplot(1,4,1)\n",
    "ax = sns.boxplot(y=SGD_t)\n",
    "ax.set(ylim=(0.6, 0.9))\n",
    "ax.set_title('SGD')\n",
    "ax.set_ylabel('Loss')\n",
    "\n",
    "plt.subplot(1,4,2)\n",
    "ax = sns.boxplot(y=Adadelta_t)\n",
    "ax.set(ylim=(0.6, 0.9))\n",
    "ax.set_title('AdaDelta')\n",
    "\n",
    "plt.subplot(1,4,3)\n",
    "ax = sns.boxplot(y=RMSprop_t)\n",
    "ax.set_title('RMSProp')\n",
    "ax.set(ylim=(0.6, 0.9))\n",
    "\n",
    "plt.subplot(1,4,4)\n",
    "ax = sns.boxplot(y=Adam_t)\n",
    "ax.set(ylim=(0.6, 0.9))\n",
    "ax.set_title('Adam')\n",
    "\n",
    "fig.savefig('/Users/jiayihan/OneDrive - Danmarks Tekniske Universitet/Thesis/Thesis_figures/Optimizer.png')"
   ]
  }
 ],
 "metadata": {
  "kernelspec": {
   "display_name": "Python 3",
   "language": "python",
   "name": "python3"
  },
  "language_info": {
   "codemirror_mode": {
    "name": "ipython",
    "version": 3
   },
   "file_extension": ".py",
   "mimetype": "text/x-python",
   "name": "python",
   "nbconvert_exporter": "python",
   "pygments_lexer": "ipython3",
   "version": "3.8.5"
  }
 },
 "nbformat": 4,
 "nbformat_minor": 4
}
