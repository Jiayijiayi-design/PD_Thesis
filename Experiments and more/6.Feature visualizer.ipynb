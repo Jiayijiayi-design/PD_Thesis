{
 "cells": [
  {
   "cell_type": "code",
   "execution_count": 45,
   "metadata": {},
   "outputs": [],
   "source": [
    "import glob \n",
    "import pandas as pd \n",
    "import matplotlib.pyplot as plt\n",
    "import numpy as np\n",
    "from sklearn.decomposition import PCA\n",
    "from sklearn.preprocessing import scale, normalize\n",
    "import missingno as msno\n",
    "\n",
    "\n",
    "# Loading \n",
    "import glob \n",
    "import pandas as pd \n",
    "from scipy import signal\n",
    "import matplotlib.pyplot as plt\n",
    "import numpy as np\n",
    "from scipy.signal import butter, lfilter, hilbert, chirp\n",
    "from itertools import islice \n",
    "from matplotlib.font_manager import FontProperties\n",
    "from sklearn.preprocessing import scale, normalize\n",
    "from scipy.signal import welch\n",
    "import torch\n",
    "from scipy.stats import kurtosis\n",
    "import antropy as ant"
   ]
  },
  {
   "cell_type": "code",
   "execution_count": 36,
   "metadata": {},
   "outputs": [
    {
     "name": "stdout",
     "output_type": "stream",
     "text": [
      "(180, 5, 12)\n",
      "1203\n"
     ]
    }
   ],
   "source": [
    "PATH_featureFiles = 'data/feature_bag_data' \n",
    "\n",
    "filesList = glob.glob(PATH_featureFiles+'/*.npy')\n",
    "labelData = pd.read_csv('data/bagData/Labels_all.csv')\n",
    "# check dimension\n",
    "first = np.load(filesList[0]).astype(np.float64)\n",
    "print(first.shape)\n",
    "print(len(filesList))"
   ]
  },
  {
   "cell_type": "code",
   "execution_count": 37,
   "metadata": {},
   "outputs": [],
   "source": [
    "labelData['featurefiles'] = ['feature_'+x for x in labelData['filenames']]"
   ]
  },
  {
   "cell_type": "code",
   "execution_count": 38,
   "metadata": {},
   "outputs": [
    {
     "data": {
      "text/html": [
       "<div>\n",
       "<style scoped>\n",
       "    .dataframe tbody tr th:only-of-type {\n",
       "        vertical-align: middle;\n",
       "    }\n",
       "\n",
       "    .dataframe tbody tr th {\n",
       "        vertical-align: top;\n",
       "    }\n",
       "\n",
       "    .dataframe thead th {\n",
       "        text-align: right;\n",
       "    }\n",
       "</style>\n",
       "<table border=\"1\" class=\"dataframe\">\n",
       "  <thead>\n",
       "    <tr style=\"text-align: right;\">\n",
       "      <th></th>\n",
       "      <th>filenames</th>\n",
       "      <th>binary</th>\n",
       "      <th>featurefiles</th>\n",
       "    </tr>\n",
       "  </thead>\n",
       "  <tbody>\n",
       "    <tr>\n",
       "      <th>0</th>\n",
       "      <td>0_110011.npy</td>\n",
       "      <td>0</td>\n",
       "      <td>feature_0_110011.npy</td>\n",
       "    </tr>\n",
       "    <tr>\n",
       "      <th>1</th>\n",
       "      <td>1_110011.npy</td>\n",
       "      <td>1</td>\n",
       "      <td>feature_1_110011.npy</td>\n",
       "    </tr>\n",
       "    <tr>\n",
       "      <th>2</th>\n",
       "      <td>2_110011.npy</td>\n",
       "      <td>1</td>\n",
       "      <td>feature_2_110011.npy</td>\n",
       "    </tr>\n",
       "    <tr>\n",
       "      <th>3</th>\n",
       "      <td>3_110011.npy</td>\n",
       "      <td>1</td>\n",
       "      <td>feature_3_110011.npy</td>\n",
       "    </tr>\n",
       "    <tr>\n",
       "      <th>4</th>\n",
       "      <td>4_110011.npy</td>\n",
       "      <td>1</td>\n",
       "      <td>feature_4_110011.npy</td>\n",
       "    </tr>\n",
       "    <tr>\n",
       "      <th>...</th>\n",
       "      <td>...</td>\n",
       "      <td>...</td>\n",
       "      <td>...</td>\n",
       "    </tr>\n",
       "    <tr>\n",
       "      <th>1198</th>\n",
       "      <td>66_110003.npy</td>\n",
       "      <td>0</td>\n",
       "      <td>feature_66_110003.npy</td>\n",
       "    </tr>\n",
       "    <tr>\n",
       "      <th>1199</th>\n",
       "      <td>67_110003.npy</td>\n",
       "      <td>0</td>\n",
       "      <td>feature_67_110003.npy</td>\n",
       "    </tr>\n",
       "    <tr>\n",
       "      <th>1200</th>\n",
       "      <td>68_110003.npy</td>\n",
       "      <td>0</td>\n",
       "      <td>feature_68_110003.npy</td>\n",
       "    </tr>\n",
       "    <tr>\n",
       "      <th>1201</th>\n",
       "      <td>69_110003.npy</td>\n",
       "      <td>0</td>\n",
       "      <td>feature_69_110003.npy</td>\n",
       "    </tr>\n",
       "    <tr>\n",
       "      <th>1202</th>\n",
       "      <td>70_110003.npy</td>\n",
       "      <td>0</td>\n",
       "      <td>feature_70_110003.npy</td>\n",
       "    </tr>\n",
       "  </tbody>\n",
       "</table>\n",
       "<p>1203 rows × 3 columns</p>\n",
       "</div>"
      ],
      "text/plain": [
       "          filenames  binary           featurefiles\n",
       "0      0_110011.npy       0   feature_0_110011.npy\n",
       "1      1_110011.npy       1   feature_1_110011.npy\n",
       "2      2_110011.npy       1   feature_2_110011.npy\n",
       "3      3_110011.npy       1   feature_3_110011.npy\n",
       "4      4_110011.npy       1   feature_4_110011.npy\n",
       "...             ...     ...                    ...\n",
       "1198  66_110003.npy       0  feature_66_110003.npy\n",
       "1199  67_110003.npy       0  feature_67_110003.npy\n",
       "1200  68_110003.npy       0  feature_68_110003.npy\n",
       "1201  69_110003.npy       0  feature_69_110003.npy\n",
       "1202  70_110003.npy       0  feature_70_110003.npy\n",
       "\n",
       "[1203 rows x 3 columns]"
      ]
     },
     "execution_count": 38,
     "metadata": {},
     "output_type": "execute_result"
    }
   ],
   "source": [
    "labelData"
   ]
  },
  {
   "cell_type": "code",
   "execution_count": 41,
   "metadata": {},
   "outputs": [
    {
     "data": {
      "text/plain": [
       "array([           nan,            nan,            nan,            nan,\n",
       "       4.96682909e-37])"
      ]
     },
     "execution_count": 41,
     "metadata": {},
     "output_type": "execute_result"
    }
   ],
   "source": [
    "first[2,:,0]"
   ]
  },
  {
   "cell_type": "code",
   "execution_count": 40,
   "metadata": {},
   "outputs": [
    {
     "data": {
      "text/plain": [
       "'data/feature_bag_data/feature_4_110010.npy'"
      ]
     },
     "execution_count": 40,
     "metadata": {},
     "output_type": "execute_result"
    }
   ],
   "source": [
    "filesList[0]"
   ]
  },
  {
   "cell_type": "code",
   "execution_count": 33,
   "metadata": {},
   "outputs": [],
   "source": [
    "firstt = np.load('data/bagData/4_110010.npy').astype(np.float64)\n",
    "\n"
   ]
  },
  {
   "cell_type": "code",
   "execution_count": 43,
   "metadata": {},
   "outputs": [
    {
     "data": {
      "text/plain": [
       "[<matplotlib.lines.Line2D at 0x7fa4e0125c70>]"
      ]
     },
     "execution_count": 43,
     "metadata": {},
     "output_type": "execute_result"
    },
    {
     "data": {
      "image/png": "[encoded data removed]",
      "text/plain": [
       "<Figure size 432x288 with 1 Axes>"
      ]
     },
     "metadata": {
      "needs_background": "light"
     },
     "output_type": "display_data"
    }
   ],
   "source": [
    "plt.plot((firstt[2,:,0]))"
   ]
  },
  {
   "cell_type": "code",
   "execution_count": 46,
   "metadata": {},
   "outputs": [],
   "source": [
    "kurtosis_ = kurtosis(firstt[2,:,0])"
   ]
  },
  {
   "cell_type": "code",
   "execution_count": 47,
   "metadata": {},
   "outputs": [
    {
     "data": {
      "text/plain": [
       "0.4004353822046771"
      ]
     },
     "execution_count": 47,
     "metadata": {},
     "output_type": "execute_result"
    }
   ],
   "source": [
    "kurtosis_"
   ]
  },
  {
   "cell_type": "code",
   "execution_count": 48,
   "metadata": {},
   "outputs": [
    {
     "data": {
      "text/plain": [
       "0.0012862825717200814"
      ]
     },
     "execution_count": 48,
     "metadata": {},
     "output_type": "execute_result"
    }
   ],
   "source": [
    "np.sqrt(np.mean(firstt[2,:,0]**2))"
   ]
  },
  {
   "cell_type": "code",
   "execution_count": 49,
   "metadata": {},
   "outputs": [
    {
     "data": {
      "text/plain": [
       "0.6005089178473724"
      ]
     },
     "execution_count": 49,
     "metadata": {},
     "output_type": "execute_result"
    }
   ],
   "source": [
    "ant.app_entropy(firstt[2,:,0])"
   ]
  },
  {
   "cell_type": "code",
   "execution_count": 54,
   "metadata": {},
   "outputs": [],
   "source": [
    "\n",
    "## call function if needed. \n",
    "def featureExtraction(data):    \n",
    "    sr = 100 \n",
    "\n",
    "    a = torch.empty((180,5,12))\n",
    "\n",
    "    for idj in range(data.shape[2]):\n",
    "        \n",
    "        for idk in range(data.shape[0]):\n",
    "            \n",
    "            f, spec = welch(data[idk,:,idj], fs=sr, nperseg=sr )\n",
    "            \n",
    "            selected = np.logical_and(f>3.5,f<7.5)\n",
    "            \n",
    "            spec = np.mean(np.log(spec[selected])) # mean frequency in tremor-spectrum \n",
    "\n",
    "            rms = np.sqrt(np.mean(data[idk,:,idj]**2)) # RMS \n",
    "\n",
    "            kurtosis_ = kurtosis(data[idk,:,idj]) # Kurtosis \n",
    "\n",
    "            entropySpec = ant.spectral_entropy(data[idk,:,idj], sf=sr, method='welch', normalize=True)  # Approximate entropy \n",
    "\n",
    "            entropy = ant.app_entropy(data[idk,:,idj])  # Approximate entropy \n",
    "\n",
    "            a[idk,0,idj] = spec\n",
    "            a[idk,1,idj] = rms\n",
    "            a[idk,2,idj] = kurtosis_\n",
    "            a[idk,3,idj] = entropySpec\n",
    "            a[idk,4,idj] = entropy\n",
    "    \n",
    "    return a\n",
    "    "
   ]
  },
  {
   "cell_type": "code",
   "execution_count": 55,
   "metadata": {},
   "outputs": [],
   "source": [
    "a = featureExtraction(firstt)"
   ]
  },
  {
   "cell_type": "code",
   "execution_count": 56,
   "metadata": {},
   "outputs": [
    {
     "data": {
      "text/plain": [
       "tensor([-1.5912e+01,  1.2863e-03,  4.0044e-01,  5.8463e-01,  6.0051e-01])"
      ]
     },
     "execution_count": 56,
     "metadata": {},
     "output_type": "execute_result"
    }
   ],
   "source": [
    "a[2,:,0]"
   ]
  },
  {
   "cell_type": "code",
   "execution_count": null,
   "metadata": {},
   "outputs": [],
   "source": []
  }
 ],
 "metadata": {
  "kernelspec": {
   "display_name": "Python 3",
   "language": "python",
   "name": "python3"
  },
  "language_info": {
   "codemirror_mode": {
    "name": "ipython",
    "version": 3
   },
   "file_extension": ".py",
   "mimetype": "text/x-python",
   "name": "python",
   "nbconvert_exporter": "python",
   "pygments_lexer": "ipython3",
   "version": "3.8.5"
  }
 },
 "nbformat": 4,
 "nbformat_minor": 4
}
