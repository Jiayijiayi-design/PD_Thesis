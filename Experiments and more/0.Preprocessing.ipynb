{
 "cells": [
  {
   "cell_type": "code",
   "execution_count": 1,
   "metadata": {},
   "outputs": [],
   "source": [
    "import time\n",
    "import os\n",
    "from os import listdir\n",
    "from os.path import join, isfile\n",
    "import matplotlib.pyplot as plt\n",
    "\n",
    "\n",
    "import numpy as np\n",
    "import numpy.matlib\n",
    "import pandas as pd\n",
    "import pyedflib\n",
    "from scipy.signal import find_peaks_cwt, welch\n",
    "from scipy.signal import decimate\n",
    "from datetime import timedelta\n",
    "from mne.filter import filter_data\n",
    "\n",
    "from sklearn import preprocessing\n",
    "from sklearn.linear_model import LogisticRegression\n",
    "from sklearn.model_selection import cross_val_predict, cross_val_score, KFold\n",
    "from sklearn.metrics import roc_auc_score, roc_curve\n",
    "\n",
    "import matplotlib.pyplot as plt\n",
    "import matplotlib.image as mpimg\n",
    "import seaborn as sns\n",
    "import glob\n",
    "\n",
    "import pandas as pd\n",
    "import numpy as np \n",
    "import matplotlib.pyplot as plt\n",
    "from scipy.signal import butter, lfilter, hilbert, chirp\n",
    "from scipy import signal\n",
    "from scipy.fft import fft, ifft\n",
    "import torch"
   ]
  },
  {
   "cell_type": "code",
   "execution_count": 2,
   "metadata": {},
   "outputs": [],
   "source": [
    "class filtering():\n",
    "    def __init__(self, bsWn=[49, 51], bpWn = [2, 9], hpWn=1, lpWn = 500,fs=2000):\n",
    "        self.fs=fs\n",
    "        self.bandstopWn = bsWn\n",
    "        self.highpassWn= hpWn\n",
    "        self.lowpassWn = lpWn \n",
    "        nyq = 0.5 * self.fs\n",
    "        self.bandpassWn = np.array(bpWn)\n",
    "       \n",
    "        \n",
    "    def downsample(self,data,proportion=0.4):\n",
    "        return pd.Series(islice(data,0,len(data), int(1/proportion)))\n",
    "    \n",
    "    def highpass(self,data,order=5):\n",
    "        b, a = signal.butter(order, self.highpassWn, 'highpass',fs = self.fs) \n",
    "        outputSignal = signal.filtfilt(b, a, data)\n",
    "        return outputSignal\n",
    "\n",
    "    def lowpass(self,data):\n",
    "        b, a = signal.butter(4, self.lowpassWn, 'lowpass', fs = self.fs)\n",
    "        y = signal.filtfilt(b, a, data)\n",
    "        return y\n",
    "    \n",
    "    def bandstop(self,data):\n",
    "        b, a = signal.butter(4, self.bandstopWn, 'bandstop',fs = self.fs)\n",
    "        outputSignal = signal.filtfilt(b, a, data)\n",
    "        return outputSignal \n",
    "    \n",
    "    def bandpass(self, data): \n",
    "        b, a = signal.butter(4, self.bandpassWn, 'bandpass', fs = self.fs)\n",
    "        outputSignal = signal.filtfilt(b, a, data)\n",
    "        return outputSignal \n",
    "        \n",
    "        \n",
    "    def rectify(self, to_rectify):\n",
    "        return abs(to_rectify)    \n",
    "    \n",
    "    def cutofftail(self,data, obsCutOffSec=10):\n",
    "         return data[:-obsCutOffSec * self.fs]\n",
    "    \n",
    "    def ADC(self, data):\n",
    "        return 3.3/8191*data"
   ]
  },
  {
   "cell_type": "code",
   "execution_count": 3,
   "metadata": {},
   "outputs": [],
   "source": [
    "EMA_data = pd.read_csv('data/EMA_data.csv')\n",
    "EMA_data['tremorBinary']=[1 if x > 1 else 0 for x in EMA_data['tremor'] ]\n"
   ]
  },
  {
   "cell_type": "code",
   "execution_count": 13,
   "metadata": {},
   "outputs": [
    {
     "data": {
      "image/png": "[encoded data removed]",
      "text/plain": [
       "<Figure size 720x432 with 2 Axes>"
      ]
     },
     "metadata": {
      "needs_background": "light"
     },
     "output_type": "display_data"
    }
   ],
   "source": [
    "from matplotlib.ticker import MaxNLocator\n",
    "\n",
    "fig=plt.figure(figsize=(10,6))\n",
    "\n",
    "plt.subplot(1,2,1)\n",
    "plt.bar(EMA_data['tremor'].value_counts().sort_index().index, EMA_data['tremor'].value_counts().sort_index().values)\n",
    "plt.title('Distribution of Tremor score',fontsize = 15)\n",
    "plt.ylabel('Count',fontsize = 10)\n",
    "plt.xlabel('Class',fontsize = 10)\n",
    "\n",
    "\n",
    "plt.subplot(1,2,2)\n",
    "\n",
    "plt.bar(EMA_data['tremorBinary'].value_counts()\n",
    "        .sort_index().index, EMA_data['tremorBinary']\n",
    "        .value_counts().sort_index().values)\n",
    "plt.title('Binary tremor score', fontsize = 15)\n",
    "plt.ylabel('Count',fontsize = 10)\n",
    "plt.xlabel('Class',fontsize = 10)\n",
    "ax = plt.gca()\n",
    "ax.xaxis.set_major_locator(MaxNLocator(integer=True))\n",
    "ax.set_ylim([0, 860])\n",
    "fig.savefig('/Users/jiayihan/OneDrive - Danmarks Tekniske Universitet/Thesis/Thesis_figures/binary.png')"
   ]
  },
  {
   "cell_type": "code",
   "execution_count": 6,
   "metadata": {},
   "outputs": [],
   "source": [
    "pd_id = '110001'\n",
    "path_c = 'npy_csv'\n",
    "path_s = 'npy_sec'\n",
    "trialData = np.load(join('data',path_c, pd_id + '_trials.npy')).astype(np.float64)\n",
    "secData = np.load(join('data',path_s, '5sec_'+pd_id + '_trials.npy')).astype(np.float64)\n",
    "csvS = pd.read_csv(join('data',path_c, pd_id + '_esm.csv'))"
   ]
  },
  {
   "cell_type": "code",
   "execution_count": 7,
   "metadata": {},
   "outputs": [
    {
     "data": {
      "text/plain": [
       "(75, 180, 500, 18)"
      ]
     },
     "execution_count": 7,
     "metadata": {},
     "output_type": "execute_result"
    }
   ],
   "source": [
    "secData.shape"
   ]
  },
  {
   "cell_type": "code",
   "execution_count": 8,
   "metadata": {
    "collapsed": true
   },
   "outputs": [
    {
     "ename": "KeyboardInterrupt",
     "evalue": "",
     "output_type": "error",
     "traceback": [
      "\u001b[0;31m---------------------------------------------------------------------------\u001b[0m",
      "\u001b[0;31mKeyboardInterrupt\u001b[0m                         Traceback (most recent call last)",
      "\u001b[0;32m<ipython-input-8-f59034405cc2>\u001b[0m in \u001b[0;36m<module>\u001b[0;34m\u001b[0m\n\u001b[1;32m     17\u001b[0m         \u001b[0;32mfor\u001b[0m \u001b[0mk\u001b[0m \u001b[0;32min\u001b[0m \u001b[0mrange\u001b[0m\u001b[0;34m(\u001b[0m\u001b[0mb\u001b[0m\u001b[0;34m.\u001b[0m\u001b[0mshape\u001b[0m\u001b[0;34m[\u001b[0m\u001b[0;36m0\u001b[0m\u001b[0;34m]\u001b[0m\u001b[0;34m)\u001b[0m\u001b[0;34m:\u001b[0m\u001b[0;34m\u001b[0m\u001b[0;34m\u001b[0m\u001b[0m\n\u001b[1;32m     18\u001b[0m             \u001b[0;32mfor\u001b[0m \u001b[0mj\u001b[0m \u001b[0;32min\u001b[0m \u001b[0mrange\u001b[0m\u001b[0;34m(\u001b[0m\u001b[0mb\u001b[0m\u001b[0;34m.\u001b[0m\u001b[0mshape\u001b[0m\u001b[0;34m[\u001b[0m\u001b[0;36m1\u001b[0m\u001b[0;34m]\u001b[0m\u001b[0;34m)\u001b[0m\u001b[0;34m:\u001b[0m\u001b[0;34m\u001b[0m\u001b[0;34m\u001b[0m\u001b[0m\n\u001b[0;32m---> 19\u001b[0;31m                 \u001b[0ma\u001b[0m\u001b[0;34m[\u001b[0m\u001b[0mk\u001b[0m\u001b[0;34m,\u001b[0m\u001b[0mj\u001b[0m\u001b[0;34m,\u001b[0m\u001b[0;34m:\u001b[0m\u001b[0;34m,\u001b[0m\u001b[0mi\u001b[0m\u001b[0;34m]\u001b[0m \u001b[0;34m=\u001b[0m\u001b[0mtorch\u001b[0m\u001b[0;34m.\u001b[0m\u001b[0mfrom_numpy\u001b[0m\u001b[0;34m(\u001b[0m\u001b[0;34m(\u001b[0m\u001b[0macceleromterFilt\u001b[0m\u001b[0;34m.\u001b[0m\u001b[0mbandpass\u001b[0m\u001b[0;34m(\u001b[0m\u001b[0mb\u001b[0m\u001b[0;34m[\u001b[0m\u001b[0mk\u001b[0m\u001b[0;34m,\u001b[0m\u001b[0mj\u001b[0m\u001b[0;34m,\u001b[0m\u001b[0;34m:\u001b[0m\u001b[0;34m,\u001b[0m\u001b[0mi\u001b[0m\u001b[0;34m]\u001b[0m\u001b[0;34m)\u001b[0m\u001b[0;34m)\u001b[0m\u001b[0;34m.\u001b[0m\u001b[0mcopy\u001b[0m\u001b[0;34m(\u001b[0m\u001b[0;34m)\u001b[0m\u001b[0;34m)\u001b[0m\u001b[0;34m\u001b[0m\u001b[0;34m\u001b[0m\u001b[0m\n\u001b[0m\u001b[1;32m     20\u001b[0m     \u001b[0mnp\u001b[0m\u001b[0;34m.\u001b[0m\u001b[0msave\u001b[0m\u001b[0;34m(\u001b[0m\u001b[0mos\u001b[0m\u001b[0;34m.\u001b[0m\u001b[0mpath\u001b[0m\u001b[0;34m.\u001b[0m\u001b[0mjoin\u001b[0m\u001b[0;34m(\u001b[0m\u001b[0;34m'data/npy_sec'\u001b[0m\u001b[0;34m,\u001b[0m\u001b[0;34m'filt5sec_'\u001b[0m\u001b[0;34m+\u001b[0m\u001b[0mp\u001b[0m\u001b[0;34m[\u001b[0m\u001b[0;34m-\u001b[0m\u001b[0;36m17\u001b[0m\u001b[0;34m:\u001b[0m\u001b[0;34m]\u001b[0m\u001b[0;34m)\u001b[0m\u001b[0;34m,\u001b[0m \u001b[0ma\u001b[0m\u001b[0;34m)\u001b[0m\u001b[0;34m\u001b[0m\u001b[0;34m\u001b[0m\u001b[0m\n",
      "\u001b[0;32m<ipython-input-2-2312d1ddefbd>\u001b[0m in \u001b[0;36mbandpass\u001b[0;34m(self, data)\u001b[0m\n\u001b[1;32m     28\u001b[0m \u001b[0;34m\u001b[0m\u001b[0m\n\u001b[1;32m     29\u001b[0m     \u001b[0;32mdef\u001b[0m \u001b[0mbandpass\u001b[0m\u001b[0;34m(\u001b[0m\u001b[0mself\u001b[0m\u001b[0;34m,\u001b[0m \u001b[0mdata\u001b[0m\u001b[0;34m)\u001b[0m\u001b[0;34m:\u001b[0m\u001b[0;34m\u001b[0m\u001b[0;34m\u001b[0m\u001b[0m\n\u001b[0;32m---> 30\u001b[0;31m         \u001b[0mb\u001b[0m\u001b[0;34m,\u001b[0m \u001b[0ma\u001b[0m \u001b[0;34m=\u001b[0m \u001b[0msignal\u001b[0m\u001b[0;34m.\u001b[0m\u001b[0mbutter\u001b[0m\u001b[0;34m(\u001b[0m\u001b[0;36m4\u001b[0m\u001b[0;34m,\u001b[0m \u001b[0mself\u001b[0m\u001b[0;34m.\u001b[0m\u001b[0mbandpassWn\u001b[0m\u001b[0;34m,\u001b[0m \u001b[0;34m'bandpass'\u001b[0m\u001b[0;34m,\u001b[0m \u001b[0mfs\u001b[0m \u001b[0;34m=\u001b[0m \u001b[0mself\u001b[0m\u001b[0;34m.\u001b[0m\u001b[0mfs\u001b[0m\u001b[0;34m)\u001b[0m\u001b[0;34m\u001b[0m\u001b[0;34m\u001b[0m\u001b[0m\n\u001b[0m\u001b[1;32m     31\u001b[0m         \u001b[0moutputSignal\u001b[0m \u001b[0;34m=\u001b[0m \u001b[0msignal\u001b[0m\u001b[0;34m.\u001b[0m\u001b[0mfiltfilt\u001b[0m\u001b[0;34m(\u001b[0m\u001b[0mb\u001b[0m\u001b[0;34m,\u001b[0m \u001b[0ma\u001b[0m\u001b[0;34m,\u001b[0m \u001b[0mdata\u001b[0m\u001b[0;34m)\u001b[0m\u001b[0;34m\u001b[0m\u001b[0;34m\u001b[0m\u001b[0m\n\u001b[1;32m     32\u001b[0m         \u001b[0;32mreturn\u001b[0m \u001b[0moutputSignal\u001b[0m\u001b[0;34m\u001b[0m\u001b[0;34m\u001b[0m\u001b[0m\n",
      "\u001b[0;32m~/opt/anaconda3/lib/python3.8/site-packages/scipy/signal/filter_design.py\u001b[0m in \u001b[0;36mbutter\u001b[0;34m(N, Wn, btype, analog, output, fs)\u001b[0m\n\u001b[1;32m   2889\u001b[0m     \u001b[0;34m>>\u001b[0m\u001b[0;34m>\u001b[0m \u001b[0mplt\u001b[0m\u001b[0;34m.\u001b[0m\u001b[0mshow\u001b[0m\u001b[0;34m(\u001b[0m\u001b[0;34m)\u001b[0m\u001b[0;34m\u001b[0m\u001b[0;34m\u001b[0m\u001b[0m\n\u001b[1;32m   2890\u001b[0m     \"\"\"\n\u001b[0;32m-> 2891\u001b[0;31m     return iirfilter(N, Wn, btype=btype, analog=analog,\n\u001b[0m\u001b[1;32m   2892\u001b[0m                      output=output, ftype='butter', fs=fs)\n\u001b[1;32m   2893\u001b[0m \u001b[0;34m\u001b[0m\u001b[0m\n",
      "\u001b[0;32m~/opt/anaconda3/lib/python3.8/site-packages/scipy/signal/filter_design.py\u001b[0m in \u001b[0;36miirfilter\u001b[0;34m(N, Wn, rp, rs, btype, analog, ftype, output, fs)\u001b[0m\n\u001b[1;32m   2401\u001b[0m         \u001b[0;32mreturn\u001b[0m \u001b[0mz\u001b[0m\u001b[0;34m,\u001b[0m \u001b[0mp\u001b[0m\u001b[0;34m,\u001b[0m \u001b[0mk\u001b[0m\u001b[0;34m\u001b[0m\u001b[0;34m\u001b[0m\u001b[0m\n\u001b[1;32m   2402\u001b[0m     \u001b[0;32melif\u001b[0m \u001b[0moutput\u001b[0m \u001b[0;34m==\u001b[0m \u001b[0;34m'ba'\u001b[0m\u001b[0;34m:\u001b[0m\u001b[0;34m\u001b[0m\u001b[0;34m\u001b[0m\u001b[0m\n\u001b[0;32m-> 2403\u001b[0;31m         \u001b[0;32mreturn\u001b[0m \u001b[0mzpk2tf\u001b[0m\u001b[0;34m(\u001b[0m\u001b[0mz\u001b[0m\u001b[0;34m,\u001b[0m \u001b[0mp\u001b[0m\u001b[0;34m,\u001b[0m \u001b[0mk\u001b[0m\u001b[0;34m)\u001b[0m\u001b[0;34m\u001b[0m\u001b[0;34m\u001b[0m\u001b[0m\n\u001b[0m\u001b[1;32m   2404\u001b[0m     \u001b[0;32melif\u001b[0m \u001b[0moutput\u001b[0m \u001b[0;34m==\u001b[0m \u001b[0;34m'sos'\u001b[0m\u001b[0;34m:\u001b[0m\u001b[0;34m\u001b[0m\u001b[0;34m\u001b[0m\u001b[0m\n\u001b[1;32m   2405\u001b[0m         \u001b[0;32mreturn\u001b[0m \u001b[0mzpk2sos\u001b[0m\u001b[0;34m(\u001b[0m\u001b[0mz\u001b[0m\u001b[0;34m,\u001b[0m \u001b[0mp\u001b[0m\u001b[0;34m,\u001b[0m \u001b[0mk\u001b[0m\u001b[0;34m)\u001b[0m\u001b[0;34m\u001b[0m\u001b[0;34m\u001b[0m\u001b[0m\n",
      "\u001b[0;32m~/opt/anaconda3/lib/python3.8/site-packages/scipy/signal/filter_design.py\u001b[0m in \u001b[0;36mzpk2tf\u001b[0;34m(z, p, k)\u001b[0m\n\u001b[1;32m   1108\u001b[0m     \u001b[0;32melse\u001b[0m\u001b[0;34m:\u001b[0m\u001b[0;34m\u001b[0m\u001b[0;34m\u001b[0m\u001b[0m\n\u001b[1;32m   1109\u001b[0m         \u001b[0mb\u001b[0m \u001b[0;34m=\u001b[0m \u001b[0mk\u001b[0m \u001b[0;34m*\u001b[0m \u001b[0mpoly\u001b[0m\u001b[0;34m(\u001b[0m\u001b[0mz\u001b[0m\u001b[0;34m)\u001b[0m\u001b[0;34m\u001b[0m\u001b[0;34m\u001b[0m\u001b[0m\n\u001b[0;32m-> 1110\u001b[0;31m     \u001b[0ma\u001b[0m \u001b[0;34m=\u001b[0m \u001b[0matleast_1d\u001b[0m\u001b[0;34m(\u001b[0m\u001b[0mpoly\u001b[0m\u001b[0;34m(\u001b[0m\u001b[0mp\u001b[0m\u001b[0;34m)\u001b[0m\u001b[0;34m)\u001b[0m\u001b[0;34m\u001b[0m\u001b[0;34m\u001b[0m\u001b[0m\n\u001b[0m\u001b[1;32m   1111\u001b[0m \u001b[0;34m\u001b[0m\u001b[0m\n\u001b[1;32m   1112\u001b[0m     \u001b[0;31m# Use real output if possible. Copied from numpy.poly, since\u001b[0m\u001b[0;34m\u001b[0m\u001b[0;34m\u001b[0m\u001b[0;34m\u001b[0m\u001b[0m\n",
      "\u001b[0;32m<__array_function__ internals>\u001b[0m in \u001b[0;36mpoly\u001b[0;34m(*args, **kwargs)\u001b[0m\n",
      "\u001b[0;32m~/opt/anaconda3/lib/python3.8/site-packages/numpy/lib/polynomial.py\u001b[0m in \u001b[0;36mpoly\u001b[0;34m(seq_of_zeros)\u001b[0m\n\u001b[1;32m    130\u001b[0m \u001b[0;34m\u001b[0m\u001b[0m\n\u001b[1;32m    131\u001b[0m     \"\"\"\n\u001b[0;32m--> 132\u001b[0;31m     \u001b[0mseq_of_zeros\u001b[0m \u001b[0;34m=\u001b[0m \u001b[0matleast_1d\u001b[0m\u001b[0;34m(\u001b[0m\u001b[0mseq_of_zeros\u001b[0m\u001b[0;34m)\u001b[0m\u001b[0;34m\u001b[0m\u001b[0;34m\u001b[0m\u001b[0m\n\u001b[0m\u001b[1;32m    133\u001b[0m     \u001b[0msh\u001b[0m \u001b[0;34m=\u001b[0m \u001b[0mseq_of_zeros\u001b[0m\u001b[0;34m.\u001b[0m\u001b[0mshape\u001b[0m\u001b[0;34m\u001b[0m\u001b[0;34m\u001b[0m\u001b[0m\n\u001b[1;32m    134\u001b[0m \u001b[0;34m\u001b[0m\u001b[0m\n",
      "\u001b[0;32m<__array_function__ internals>\u001b[0m in \u001b[0;36matleast_1d\u001b[0;34m(*args, **kwargs)\u001b[0m\n",
      "\u001b[0;32m~/opt/anaconda3/lib/python3.8/site-packages/numpy/core/shape_base.py\u001b[0m in \u001b[0;36matleast_1d\u001b[0;34m(*arys)\u001b[0m\n\u001b[1;32m     63\u001b[0m     \"\"\"\n\u001b[1;32m     64\u001b[0m     \u001b[0mres\u001b[0m \u001b[0;34m=\u001b[0m \u001b[0;34m[\u001b[0m\u001b[0;34m]\u001b[0m\u001b[0;34m\u001b[0m\u001b[0;34m\u001b[0m\u001b[0m\n\u001b[0;32m---> 65\u001b[0;31m     \u001b[0;32mfor\u001b[0m \u001b[0mary\u001b[0m \u001b[0;32min\u001b[0m \u001b[0marys\u001b[0m\u001b[0;34m:\u001b[0m\u001b[0;34m\u001b[0m\u001b[0;34m\u001b[0m\u001b[0m\n\u001b[0m\u001b[1;32m     66\u001b[0m         \u001b[0mary\u001b[0m \u001b[0;34m=\u001b[0m \u001b[0masanyarray\u001b[0m\u001b[0;34m(\u001b[0m\u001b[0mary\u001b[0m\u001b[0;34m)\u001b[0m\u001b[0;34m\u001b[0m\u001b[0;34m\u001b[0m\u001b[0m\n\u001b[1;32m     67\u001b[0m         \u001b[0;32mif\u001b[0m \u001b[0mary\u001b[0m\u001b[0;34m.\u001b[0m\u001b[0mndim\u001b[0m \u001b[0;34m==\u001b[0m \u001b[0;36m0\u001b[0m\u001b[0;34m:\u001b[0m\u001b[0;34m\u001b[0m\u001b[0;34m\u001b[0m\u001b[0m\n",
      "\u001b[0;31mKeyboardInterrupt\u001b[0m: "
     ]
    }
   ],
   "source": [
    "## filtering \n",
    "paths = glob.glob('data/npy_sec/*_trials.npy')\n",
    "\n",
    "sr = 100\n",
    "n_q = 74\n",
    "n_w = 44\n",
    "acceleromterFilt = filtering(hpWn = 0.3, bpWn = [0.3 , 9],lpWn = 9, fs=sr)\n",
    "#windowData = acceleromterFilt.bandpass(secData[n_q,n_w,:,0])\n",
    "\n",
    "    \n",
    "for p in paths:\n",
    "    trialData = np.load(p).astype(np.float64)\n",
    "    # transform into tensor\n",
    "    b = torch.from_numpy(trialData)\n",
    "    a = torch.empty((b.shape[0],b.shape[1],b.shape[2],12))\n",
    "    for i in range(12): # the interested sensors (R and L)\n",
    "        for k in range(b.shape[0]): \n",
    "            for j in range(b.shape[1]): \n",
    "                a[k,j,:,i] =torch.from_numpy((acceleromterFilt.bandpass(b[k,j,:,i])).copy())\n",
    "    #np.save(os.path.join('data/npy_sec','filt5sec_'+p[-17:]), a)            \n"
   ]
  },
  {
   "cell_type": "code",
   "execution_count": null,
   "metadata": {},
   "outputs": [],
   "source": [
    "leftAccIdx = range(0,3)\n",
    "leftGyrIdx= range(3,6)\n",
    "rightAccIdx = range(6,9)\n",
    "rightGyrIdx = range(9,12)"
   ]
  },
  {
   "cell_type": "code",
   "execution_count": null,
   "metadata": {},
   "outputs": [],
   "source": [
    "features=[]\n",
    "f, spec = welch(windowData, fs=sr, nperseg=sr )\n",
    "selected = np.logical_and(f>3.5,f<7.5)\n",
    "spec = np.mean(np.log(spec[selected]))\n",
    "features.append(spec)\n",
    "print(features)\n",
    "\n",
    "fig=plt.figure(figsize=(20,10))\n",
    "plt.subplot(1,2,1)\n",
    "plt.plot(secData[n_q,n_w,:,0]-np.mean(secData[n_q,n_w,:,0]))\n",
    "plt.plot(secData[n_q,n_w,:,1]-np.mean(secData[n_q,n_w,:,1]))\n",
    "plt.plot(secData[n_q,n_w,:,2]-np.mean(secData[n_q,n_w,:,2]))\n",
    "plt.subplot(1,2,2)\n",
    "plt.plot(secData[n_q,n_w,:,6]-np.mean(secData[n_q,n_w,:,6]))\n",
    "plt.plot(secData[n_q,n_w,:,7]-np.mean(secData[n_q,n_w,:,7]))\n",
    "plt.plot(secData[n_q,n_w,:,8]-np.mean(secData[n_q,n_w,:,8]))"
   ]
  },
  {
   "cell_type": "code",
   "execution_count": null,
   "metadata": {},
   "outputs": [],
   "source": [
    "fig=plt.figure(figsize=(20,10))\n",
    "plt.subplot(1,2,1)\n",
    "plt.plot(secData[n_q,n_w,:,0]-np.mean(secData[n_q,n_w,:,0]))\n",
    "plt.title('Before bandpass filter', fontsize=12)\n",
    "plt.xlabel('time')\n",
    "\n",
    "plt.subplot(1,2,2)\n",
    "\n",
    "plt.plot(windowData-np.mean(windowData))\n",
    "plt.title('After bandpass filter', fontsize=12)\n",
    "plt.xlabel('time')"
   ]
  },
  {
   "cell_type": "code",
   "execution_count": null,
   "metadata": {},
   "outputs": [],
   "source": [
    "class PdDataset(Dataset):\n",
    "    def __init__(self):\n",
    "        \n",
    "        ptList = glob.glob('data/npy_sec/filt*_trials.npy')\n",
    "        \n",
    "        data1 = torch.empty((1,180,500,12))\n",
    "        label1 = torch.empty((1))\n",
    "        \n",
    "        for p in (ptList):\n",
    "            data2 = torch.from_numpy(np.load(p).astype(np.float64))\n",
    "            pt = p[-17:-11]\n",
    "            print(p)\n",
    "            print(pt)\n",
    "            labels = pd.read_csv(os.path.join('data/npy_csv',pt+'_esm.csv'))\n",
    "            label2=torch.FloatTensor([1 if x > 1 else 0 for x in labels['tremor']])\n",
    "            \n",
    "            data1.append()\n",
    "            label1 = torch.cat((label1,label2),0)\n",
    "        self.data = data1 \n",
    "        self.baglabel = label1\n",
    "    def __len__(self):\n",
    "        return len(self.x.shape[1])\n",
    "    \n",
    "    def __getitem__(self, index):\n",
    "        return self.x[idex], self.y[index]"
   ]
  },
  {
   "cell_type": "code",
   "execution_count": null,
   "metadata": {},
   "outputs": [],
   "source": [
    "#d =PdDataset()\n",
    "#np.save('baglabel.npy', d.baglabel)\n",
    "#np.save('concatdata.npy', d.data)\n",
    "        "
   ]
  }
 ],
 "metadata": {
  "kernelspec": {
   "display_name": "Python 3",
   "language": "python",
   "name": "python3"
  },
  "language_info": {
   "codemirror_mode": {
    "name": "ipython",
    "version": 3
   },
   "file_extension": ".py",
   "mimetype": "text/x-python",
   "name": "python",
   "nbconvert_exporter": "python",
   "pygments_lexer": "ipython3",
   "version": "3.8.5"
  }
 },
 "nbformat": 4,
 "nbformat_minor": 4
}
