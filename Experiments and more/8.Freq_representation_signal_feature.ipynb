{
 "cells": [
  {
   "cell_type": "code",
   "execution_count": 1,
   "metadata": {},
   "outputs": [],
   "source": [
    "# Loading \n",
    "import glob \n",
    "import pandas as pd \n",
    "from scipy import signal\n",
    "import matplotlib.pyplot as plt\n",
    "import numpy as np\n",
    "from scipy.signal import butter, lfilter, hilbert, chirp\n",
    "from itertools import islice \n",
    "from matplotlib.font_manager import FontProperties\n",
    "from sklearn.preprocessing import scale, normalize\n",
    "from scipy.signal import welch\n",
    "import torch\n",
    "from scipy.stats import kurtosis\n",
    "import antropy as ant"
   ]
  },
  {
   "cell_type": "code",
   "execution_count": 120,
   "metadata": {},
   "outputs": [],
   "source": [
    "labels = pd.read_csv('data/bagData/Labels_all.csv')\n",
    "idx = 8\n",
    "filename = labels.iloc[idx]['filenames']\n",
    "data = np.load('data/bagData/'+filename).astype(np.float64)"
   ]
  },
  {
   "cell_type": "code",
   "execution_count": 121,
   "metadata": {},
   "outputs": [
    {
     "name": "stdout",
     "output_type": "stream",
     "text": [
      "filenames    8_110011.npy\n",
      "binary                  1\n",
      "Name: 8, dtype: object\n"
     ]
    }
   ],
   "source": [
    "print(labels.iloc[idx])"
   ]
  },
  {
   "cell_type": "code",
   "execution_count": 122,
   "metadata": {},
   "outputs": [],
   "source": [
    "idj = 0 \n",
    "idk = 1\n",
    "sr = 100\n",
    "\n",
    "spec = torch.empty((26,))\n",
    "for idk in range(data.shape[2]):\n",
    "    f, specc = welch(data[idj,:,idk], fs=sr, nperseg= 100, noverlap = 100*0.75)\n",
    "    selected = np.logical_and(f>=0,f<=25)\n",
    "    spec += specc[selected]\n",
    "    "
   ]
  },
  {
   "cell_type": "code",
   "execution_count": 123,
   "metadata": {},
   "outputs": [
    {
     "data": {
      "image/png": "[encoded data removed]",
      "text/plain": [
       "<Figure size 432x288 with 1 Axes>"
      ]
     },
     "metadata": {
      "needs_background": "light"
     },
     "output_type": "display_data"
    }
   ],
   "source": [
    "plt.plot(f[selected],spec)\n",
    "#plt.ylim([0.5e-3, 1])\n",
    "plt.xlabel('frequency [Hz]')\n",
    "plt.ylabel('PSD [V**2/Hz]')\n",
    "plt.show()"
   ]
  },
  {
   "cell_type": "code",
   "execution_count": 124,
   "metadata": {},
   "outputs": [
    {
     "data": {
      "text/plain": [
       "1.0"
      ]
     },
     "execution_count": 124,
     "metadata": {},
     "output_type": "execute_result"
    }
   ],
   "source": [
    "f[selected][np.argmax(specc)]"
   ]
  },
  {
   "cell_type": "code",
   "execution_count": null,
   "metadata": {},
   "outputs": [],
   "source": []
  },
  {
   "cell_type": "code",
   "execution_count": null,
   "metadata": {},
   "outputs": [],
   "source": []
  }
 ],
 "metadata": {
  "kernelspec": {
   "display_name": "Python 3",
   "language": "python",
   "name": "python3"
  },
  "language_info": {
   "codemirror_mode": {
    "name": "ipython",
    "version": 3
   },
   "file_extension": ".py",
   "mimetype": "text/x-python",
   "name": "python",
   "nbconvert_exporter": "python",
   "pygments_lexer": "ipython3",
   "version": "3.8.5"
  }
 },
 "nbformat": 4,
 "nbformat_minor": 4
}
