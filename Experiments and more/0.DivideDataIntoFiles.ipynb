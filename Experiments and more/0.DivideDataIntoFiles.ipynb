{
 "cells": [
  {
   "cell_type": "code",
   "execution_count": 33,
   "metadata": {},
   "outputs": [],
   "source": [
    "# imports\n",
    "import torch\n",
    "from torch.autograd import Variable\n",
    "from torch.nn.parameter import Parameter\n",
    "import torch.nn as nn\n",
    "import torch.nn.functional as F\n",
    "import torch.optim as optim\n",
    "import torch.nn.init as init\n",
    "\n",
    "from torch.nn import Linear, Conv2d, BatchNorm2d, MaxPool2d, Dropout\n",
    "from torch.nn.functional import relu, elu, relu6, sigmoid, tanh, softmax\n",
    "from sklearn.metrics import accuracy_score\n",
    "import torch.optim as optim\n",
    "from torch.utils.data import Dataset\n",
    "import numpy as np\n",
    "import glob\n",
    "import pandas as pd\n",
    "\n",
    "import time\n",
    "import os\n",
    "from os import listdir\n",
    "from os.path import join, isfile\n",
    "from torch.utils.data import DataLoader\n",
    "import matplotlib.pyplot as plt\n",
    "\n"
   ]
  },
  {
   "cell_type": "markdown",
   "metadata": {},
   "source": [
    "# Divide into files and make dataframe for labels\n",
    "Each pd-subject's data is divided into files\n"
   ]
  },
  {
   "cell_type": "code",
   "execution_count": 12,
   "metadata": {},
   "outputs": [
    {
     "name": "stdout",
     "output_type": "stream",
     "text": [
      "110011\n",
      "110008\n",
      "110014\n",
      "110005\n",
      "110019\n",
      "110002\n",
      "110013\n",
      "110016\n",
      "110007\n",
      "110009\n",
      "110015\n",
      "110004\n",
      "110018\n",
      "110001\n",
      "110010\n",
      "110017\n",
      "110006\n",
      "110003\n"
     ]
    }
   ],
   "source": [
    "ptList = glob.glob('data/npy_sec/filt*_trials.npy')\n",
    "\n",
    "labels = []\n",
    "\n",
    "for p in (ptList):\n",
    "    data  = torch.from_numpy(np.load(p).astype(np.float64))\n",
    "    pt = p[-17:-11]\n",
    "    #print(pt)\n",
    "    \n",
    "    labelpt = pd.read_csv(os.path.join('data/npy_csv',pt+'_esm.csv'))\n",
    "    labelpt['binary']=[1 if x > 1 else 0 for x in labelpt['tremor']]\n",
    "    \n",
    "    filenames = []\n",
    "    for i in range(data.shape[0]):\n",
    "        filename = str(i)+'_'+pt+'.npy'\n",
    "        filenames.append(filename)\n",
    "        #np.save('data/bagData/'+filename, data[i,:,:,:])\n",
    "\n",
    "    labelpt['filenames'] = filenames\n",
    "    labelpt = labelpt[['filenames','binary']]\n",
    "    labels.append(labelpt)\n",
    "    \n",
    "df = pd.concat(labels)   \n",
    "\n",
    "#df.to_csv('Labels_all.csv',index=False)"
   ]
  }
 ],
 "metadata": {
  "kernelspec": {
   "display_name": "Python 3",
   "language": "python",
   "name": "python3"
  },
  "language_info": {
   "codemirror_mode": {
    "name": "ipython",
    "version": 3
   },
   "file_extension": ".py",
   "mimetype": "text/x-python",
   "name": "python",
   "nbconvert_exporter": "python",
   "pygments_lexer": "ipython3",
   "version": "3.8.5"
  }
 },
 "nbformat": 4,
 "nbformat_minor": 4
}
