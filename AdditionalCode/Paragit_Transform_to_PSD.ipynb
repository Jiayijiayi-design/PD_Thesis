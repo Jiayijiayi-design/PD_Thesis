{
 "cells": [
  {
   "cell_type": "markdown",
   "metadata": {},
   "source": [
    "## This code transforms the data to freqency domain using Welch's Method\n"
   ]
  },
  {
   "cell_type": "code",
   "execution_count": 3,
   "metadata": {},
   "outputs": [],
   "source": [
    "# Loading \n",
    "import glob \n",
    "import pandas as pd \n",
    "from scipy import signal\n",
    "import matplotlib.pyplot as plt\n",
    "import numpy as np\n",
    "from scipy.signal import butter, lfilter, hilbert, chirp\n",
    "from itertools import islice \n",
    "from matplotlib.font_manager import FontProperties\n",
    "from sklearn.preprocessing import scale, normalize\n",
    "from scipy.signal import welch\n",
    "import torch\n",
    "from scipy.stats import kurtosis\n",
    "import antropy as ant\n",
    "import glob"
   ]
  },
  {
   "cell_type": "markdown",
   "metadata": {},
   "source": [
    "## The function\n",
    "The interested frequency is under 25 Hz. with 0.75 overlap \n",
    "Each window has width of 300 samples = 3 seconds"
   ]
  },
  {
   "cell_type": "code",
   "execution_count": 4,
   "metadata": {},
   "outputs": [],
   "source": [
    "def feq_extract(test_data):\n",
    "    fs = 100 \n",
    "    a = np.zeros((180,76))\n",
    "    for k in range(180):\n",
    "        summing = 0\n",
    "        for i in range(12):\n",
    "            f, spec = welch(test_data[k,:,i], fs=fs, nperseg=300, noverlap=int(0.75*300))\n",
    "            summing += spec[f<=25]\n",
    "        a[k,:] = summing\n",
    "    return a    "
   ]
  },
  {
   "cell_type": "code",
   "execution_count": 11,
   "metadata": {},
   "outputs": [],
   "source": [
    "files = glob.glob('data/ParagitBagData/*.npy')\n",
    "for file in files:\n",
    "        data = np.load(file).astype(np.float64)\n",
    "        a = feq_extract(data)\n",
    "        #np.save('data/paragitFreq/'+'freq_'+file[20:], a)"
   ]
  }
 ],
 "metadata": {
  "kernelspec": {
   "display_name": "Python 3",
   "language": "python",
   "name": "python3"
  },
  "language_info": {
   "codemirror_mode": {
    "name": "ipython",
    "version": 3
   },
   "file_extension": ".py",
   "mimetype": "text/x-python",
   "name": "python",
   "nbconvert_exporter": "python",
   "pygments_lexer": "ipython3",
   "version": "3.8.5"
  }
 },
 "nbformat": 4,
 "nbformat_minor": 4
}
