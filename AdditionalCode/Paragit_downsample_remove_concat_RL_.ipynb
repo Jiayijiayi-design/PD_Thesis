{
 "cells": [
  {
   "cell_type": "code",
   "execution_count": 1,
   "metadata": {},
   "outputs": [],
   "source": [
    "import time\n",
    "import os\n",
    "from os import listdir\n",
    "from os.path import join, isfile\n",
    "import glob\n",
    "import numpy as np\n",
    "import numpy.matlib\n",
    "import pandas as pd\n",
    "import pyedflib\n",
    "from scipy.signal import find_peaks_cwt, welch\n",
    "from scipy.signal import decimate\n",
    "from datetime import timedelta\n",
    "from datetime import datetime\n",
    "\n",
    "from mne.filter import filter_data\n",
    "\n",
    "from sklearn import preprocessing\n",
    "from sklearn.linear_model import LogisticRegression\n",
    "from sklearn.model_selection import cross_val_predict, cross_val_score, KFold\n",
    "from sklearn.metrics import roc_auc_score, roc_curve\n",
    "\n",
    "import matplotlib.pyplot as plt\n",
    "import matplotlib.image as mpimg\n",
    "import seaborn as sns\n",
    "\n",
    "import pandas as pd\n",
    "import numpy as np \n",
    "import matplotlib.pyplot as plt\n",
    "from scipy.signal import butter, lfilter, hilbert, chirp\n",
    "from scipy import signal\n",
    "from scipy.fft import fft, ifft"
   ]
  },
  {
   "cell_type": "code",
   "execution_count": 2,
   "metadata": {},
   "outputs": [],
   "source": [
    "p_right_anno = '/Users/jiayihan/OneDrive - Danmarks Tekniske Universitet/Thesis/paragitData/TM-metadata/TM-R'\n",
    "p_left_anno = '/Users/jiayihan/OneDrive - Danmarks Tekniske Universitet/Thesis/paragitData/TM-metadata/TM-L'"
   ]
  },
  {
   "cell_type": "code",
   "execution_count": 3,
   "metadata": {},
   "outputs": [],
   "source": [
    "p_right_data = '/Users/jiayihan/OneDrive - Danmarks Tekniske Universitet/Thesis/paragitData/TM-metadata/TM-R'\n",
    "p_left_data = '/Users/jiayihan/OneDrive - Danmarks Tekniske Universitet/Thesis/paragitData/TM-metadata/TM-L'"
   ]
  },
  {
   "cell_type": "code",
   "execution_count": 4,
   "metadata": {},
   "outputs": [],
   "source": [
    "right = pd.read_csv(p_right_anno + '/RECORDING_00.csv')['Time (us)']\n",
    "left = pd.read_csv(p_left_anno + '/RECORDING_01.csv')['Time (us)']"
   ]
  },
  {
   "cell_type": "markdown",
   "metadata": {},
   "source": [
    "### Right and left side time start and end"
   ]
  },
  {
   "cell_type": "code",
   "execution_count": 5,
   "metadata": {},
   "outputs": [
    {
     "data": {
      "text/plain": [
       "0            Electronics ID: ps-v1.3-000010\n",
       "1       Log start time: 10:52:58 19-10-2021\n",
       "2                         Medication Times:\n",
       "3                                     20836\n",
       "4                                     37575\n",
       "5                                     69602\n",
       "6          Log end time: 8:17:58 20-10-2021\n",
       "7    Shut down due to: Electrode disconnect\n",
       "Name: Time (us), dtype: object"
      ]
     },
     "execution_count": 5,
     "metadata": {},
     "output_type": "execute_result"
    }
   ],
   "source": [
    "right"
   ]
  },
  {
   "cell_type": "code",
   "execution_count": 6,
   "metadata": {},
   "outputs": [
    {
     "data": {
      "text/plain": [
       "0            Electronics ID: ps-v1.3-000002\n",
       "1       Log start time: 10:59:28 19-10-2021\n",
       "2                         Medication Times:\n",
       "3                                     20427\n",
       "4                                     37165\n",
       "5                                     69191\n",
       "6          Log end time: 8:17:59 20-10-2021\n",
       "7    Shut down due to: Electrode disconnect\n",
       "Name: Time (us), dtype: object"
      ]
     },
     "execution_count": 6,
     "metadata": {},
     "output_type": "execute_result"
    }
   ],
   "source": [
    "left"
   ]
  },
  {
   "cell_type": "code",
   "execution_count": 10,
   "metadata": {},
   "outputs": [
    {
     "name": "stdout",
     "output_type": "stream",
     "text": [
      "The difference is 6 minutes and 30  seconds\n",
      "0:06:30\n"
     ]
    }
   ],
   "source": [
    "import datetime\n",
    "\n",
    "time_left = datetime.datetime.strptime('10:59:28 19-10-2021', '%H:%M:%S %d-%m-%Y')\n",
    "time_right = datetime.datetime.strptime('10:52:58 19-10-2021', '%H:%M:%S %d-%m-%Y')\n",
    "seconds_in_day = 24 * 60 * 60\n",
    "difference = time_left - time_right\n",
    "time_div = divmod(difference.days * seconds_in_day + difference.seconds, 60)\n",
    "print('The difference is',time_div[0], 'minutes and' ,time_div[1], ' seconds')\n",
    "print(difference)"
   ]
  },
  {
   "cell_type": "code",
   "execution_count": 82,
   "metadata": {},
   "outputs": [
    {
     "name": "stdout",
     "output_type": "stream",
     "text": [
      "The difference is 0 minutes and 1  seconds\n",
      "0:00:01\n"
     ]
    }
   ],
   "source": [
    "time_left_end = datetime.datetime.strptime('8:17:58 20-10-2021', '%H:%M:%S %d-%m-%Y')\n",
    "time_right_end = datetime.datetime.strptime('8:17:59 20-10-2021', '%H:%M:%S %d-%m-%Y')\n",
    "seconds_in_day = 24 * 60 * 60\n",
    "difference = time_right_end - time_left_end  \n",
    "time_div = divmod(difference.days * seconds_in_day + difference.seconds, 60)\n",
    "print('The difference is',time_div[0], 'minutes and' ,time_div[1], ' seconds')\n",
    "print(difference)"
   ]
  },
  {
   "cell_type": "code",
   "execution_count": 54,
   "metadata": {},
   "outputs": [],
   "source": [
    "sampling_frequency = 500 "
   ]
  },
  {
   "cell_type": "markdown",
   "metadata": {},
   "source": [
    "## Match two datasets from right and left"
   ]
  },
  {
   "cell_type": "code",
   "execution_count": 11,
   "metadata": {},
   "outputs": [],
   "source": [
    "Left_paths = glob.glob(\"/Users/jiayihan/OneDrive - Danmarks Tekniske Universitet/Thesis/paragitData/L/RECORDING_01*.csv\")\n",
    "Right_paths = glob.glob(\"/Users/jiayihan/OneDrive - Danmarks Tekniske Universitet/Thesis/paragitData/R/RECORDING_00*.csv\")"
   ]
  },
  {
   "cell_type": "code",
   "execution_count": 12,
   "metadata": {},
   "outputs": [
    {
     "name": "stdout",
     "output_type": "stream",
     "text": [
      "number of files left side 43\n",
      "number of files right side 43\n"
     ]
    }
   ],
   "source": [
    "print('number of files left side', len(Left_paths))\n",
    "print('number of files right side', len(Right_paths))"
   ]
  },
  {
   "cell_type": "code",
   "execution_count": 15,
   "metadata": {},
   "outputs": [],
   "source": [
    "# For each file give correct time \n",
    "dfNames = ['Time','EMG','batt','gX','gY','gZ','aX','aY','aZ'] "
   ]
  },
  {
   "cell_type": "code",
   "execution_count": 16,
   "metadata": {},
   "outputs": [
    {
     "data": {
      "text/plain": [
       "'/Users/jiayihan/OneDrive - Danmarks Tekniske Universitet/Thesis/paragitData/L/RECORDING_01-OUT16.csv'"
      ]
     },
     "execution_count": 16,
     "metadata": {},
     "output_type": "execute_result"
    }
   ],
   "source": [
    "Left_paths[0]"
   ]
  },
  {
   "cell_type": "markdown",
   "metadata": {},
   "source": [
    "## Downsampling"
   ]
  },
  {
   "cell_type": "code",
   "execution_count": 67,
   "metadata": {},
   "outputs": [],
   "source": [
    "# For each of the files divide into 90000 samples \n",
    "def downsampling(samplingrateBefore, samplingrateAfter, Right_paths,Left_paths):\n",
    "\n",
    "    shapesR = []\n",
    "    shapesL = []\n",
    "    for paths in Left_paths: \n",
    "        data = pd.read_csv(paths)\n",
    "        fL = signal.resample(data,round((samplingrateAfter/samplingrateBefore) * data.shape[0]))\n",
    "        shapesL.append(fL.shape[0]\n",
    "        # save to path left\n",
    "        np.save('/Users/jiayihan/OneDrive - Danmarks Tekniske Universitet/Thesis/paragitData/Downsampling/L/'+paths[-9:-4]+'.npy',fL) \n",
    "\n",
    "\n",
    "    for paths in Right_paths: \n",
    "        data = pd.read_csv(paths)\n",
    "        fR = signal.resample(data,round((samplingrateAfter/samplingrateBefore) * data.shape[0]))\n",
    "        shapesR.append(fR.shape[0])\n",
    "        # save to path right\n",
    "        np.save('/Users/jiayihan/OneDrive - Danmarks Tekniske Universitet/Thesis/paragitData/Downsampling/R/'+paths[-9:-4]+'.npy',fR) \n",
    "    return shapesR,shapesL\n"
   ]
  },
  {
   "cell_type": "code",
   "execution_count": 78,
   "metadata": {},
   "outputs": [
    {
     "name": "stdout",
     "output_type": "stream",
     "text": [
      "mismatch in total size\n"
     ]
    },
    {
     "data": {
      "text/plain": [
       "6.476666666666667"
      ]
     },
     "execution_count": 78,
     "metadata": {},
     "output_type": "execute_result"
    }
   ],
   "source": [
    "# downsampling(2000, 100, Right_paths,Left_paths) \n",
    "print('Mismatch in total size')\n",
    "(np.sum(shapesR)-np.sum(shapesL))/(100*60)"
   ]
  },
  {
   "cell_type": "markdown",
   "metadata": {},
   "source": [
    "## Merge according the last file towards the first\n"
   ]
  },
  {
   "cell_type": "code",
   "execution_count": 83,
   "metadata": {},
   "outputs": [
    {
     "data": {
      "text/plain": [
       "38860"
      ]
     },
     "execution_count": 83,
     "metadata": {},
     "output_type": "execute_result"
    }
   ],
   "source": [
    "np.sum(shapesR)-np.sum(shapesL)"
   ]
  },
  {
   "cell_type": "code",
   "execution_count": 103,
   "metadata": {},
   "outputs": [],
   "source": [
    "# as we have downsampled, the computer will be able to handel the complete data easier \n",
    "left_data = []\n",
    "right_data = []\n",
    "\n",
    "path_r = '/Users/jiayihan/OneDrive - Danmarks Tekniske Universitet/Thesis/paragitData/Downsampling/R/'\n",
    "path_l = '/Users/jiayihan/OneDrive - Danmarks Tekniske Universitet/Thesis/paragitData/Downsampling/L/'\n",
    "\n",
    "for file in range(43):\n",
    "    filename = 'OUT'+str(file).zfill(2)+'.npy' \n",
    "    left_data.append(np.load(path_l+filename).astype(np.float64))\n",
    "    right_data.append(np.load(path_r+filename).astype(np.float64))\n"
   ]
  },
  {
   "cell_type": "code",
   "execution_count": 144,
   "metadata": {},
   "outputs": [],
   "source": [
    "left_complete = np.concatenate(left_data)    \n",
    "right_complete = np.concatenate(right_data)"
   ]
  },
  {
   "cell_type": "code",
   "execution_count": 150,
   "metadata": {},
   "outputs": [],
   "source": [
    "cut_tail_left = left_complete[:-140,:]\n",
    "cut_front_right = right_complete[30*100+(6*60*100):,:]"
   ]
  },
  {
   "cell_type": "code",
   "execution_count": 152,
   "metadata": {},
   "outputs": [],
   "source": [
    "dfNames = ['Time','EMG','batt','gX','gY','gZ','aX','aY','aZ'] # Data columns in csv file"
   ]
  },
  {
   "cell_type": "code",
   "execution_count": 155,
   "metadata": {},
   "outputs": [],
   "source": [
    "Left = pd.DataFrame(data=cut_tail_left)\n",
    "Right = pd.DataFrame(data = cut_front_right)"
   ]
  },
  {
   "cell_type": "code",
   "execution_count": 157,
   "metadata": {},
   "outputs": [],
   "source": [
    "Right.columns = dfNames\n",
    "Left.columns = dfNames"
   ]
  },
  {
   "cell_type": "code",
   "execution_count": 159,
   "metadata": {},
   "outputs": [
    {
     "data": {
      "text/html": [
       "<div>\n",
       "<style scoped>\n",
       "    .dataframe tbody tr th:only-of-type {\n",
       "        vertical-align: middle;\n",
       "    }\n",
       "\n",
       "    .dataframe tbody tr th {\n",
       "        vertical-align: top;\n",
       "    }\n",
       "\n",
       "    .dataframe thead th {\n",
       "        text-align: right;\n",
       "    }\n",
       "</style>\n",
       "<table border=\"1\" class=\"dataframe\">\n",
       "  <thead>\n",
       "    <tr style=\"text-align: right;\">\n",
       "      <th></th>\n",
       "      <th>aX</th>\n",
       "      <th>aY</th>\n",
       "      <th>aZ</th>\n",
       "    </tr>\n",
       "  </thead>\n",
       "  <tbody>\n",
       "    <tr>\n",
       "      <th>0</th>\n",
       "      <td>-1177.302969</td>\n",
       "      <td>12601.079750</td>\n",
       "      <td>10816.128563</td>\n",
       "    </tr>\n",
       "    <tr>\n",
       "      <th>1</th>\n",
       "      <td>-1251.278514</td>\n",
       "      <td>12749.065569</td>\n",
       "      <td>10793.318951</td>\n",
       "    </tr>\n",
       "    <tr>\n",
       "      <th>2</th>\n",
       "      <td>-1141.182686</td>\n",
       "      <td>12680.527765</td>\n",
       "      <td>10739.373551</td>\n",
       "    </tr>\n",
       "    <tr>\n",
       "      <th>3</th>\n",
       "      <td>-977.084162</td>\n",
       "      <td>12449.804436</td>\n",
       "      <td>10662.235127</td>\n",
       "    </tr>\n",
       "    <tr>\n",
       "      <th>4</th>\n",
       "      <td>-838.295793</td>\n",
       "      <td>12121.904824</td>\n",
       "      <td>10708.114616</td>\n",
       "    </tr>\n",
       "    <tr>\n",
       "      <th>...</th>\n",
       "      <td>...</td>\n",
       "      <td>...</td>\n",
       "      <td>...</td>\n",
       "    </tr>\n",
       "    <tr>\n",
       "      <th>7670316</th>\n",
       "      <td>288.678659</td>\n",
       "      <td>10688.214967</td>\n",
       "      <td>13572.660520</td>\n",
       "    </tr>\n",
       "    <tr>\n",
       "      <th>7670317</th>\n",
       "      <td>198.824544</td>\n",
       "      <td>9752.550094</td>\n",
       "      <td>12978.875827</td>\n",
       "    </tr>\n",
       "    <tr>\n",
       "      <th>7670318</th>\n",
       "      <td>1251.905562</td>\n",
       "      <td>9666.386188</td>\n",
       "      <td>13871.610526</td>\n",
       "    </tr>\n",
       "    <tr>\n",
       "      <th>7670319</th>\n",
       "      <td>1396.867681</td>\n",
       "      <td>8661.765648</td>\n",
       "      <td>11792.521014</td>\n",
       "    </tr>\n",
       "    <tr>\n",
       "      <th>7670320</th>\n",
       "      <td>4836.185854</td>\n",
       "      <td>7574.608053</td>\n",
       "      <td>14868.156685</td>\n",
       "    </tr>\n",
       "  </tbody>\n",
       "</table>\n",
       "<p>7670321 rows × 3 columns</p>\n",
       "</div>"
      ],
      "text/plain": [
       "                  aX            aY            aZ\n",
       "0       -1177.302969  12601.079750  10816.128563\n",
       "1       -1251.278514  12749.065569  10793.318951\n",
       "2       -1141.182686  12680.527765  10739.373551\n",
       "3        -977.084162  12449.804436  10662.235127\n",
       "4        -838.295793  12121.904824  10708.114616\n",
       "...              ...           ...           ...\n",
       "7670316   288.678659  10688.214967  13572.660520\n",
       "7670317   198.824544   9752.550094  12978.875827\n",
       "7670318  1251.905562   9666.386188  13871.610526\n",
       "7670319  1396.867681   8661.765648  11792.521014\n",
       "7670320  4836.185854   7574.608053  14868.156685\n",
       "\n",
       "[7670321 rows x 3 columns]"
      ]
     },
     "execution_count": 159,
     "metadata": {},
     "output_type": "execute_result"
    }
   ],
   "source": [
    "Right[['aX','aY','aZ','gX','gY','gZ']] "
   ]
  },
  {
   "cell_type": "code",
   "execution_count": 160,
   "metadata": {},
   "outputs": [
    {
     "data": {
      "text/html": [
       "<div>\n",
       "<style scoped>\n",
       "    .dataframe tbody tr th:only-of-type {\n",
       "        vertical-align: middle;\n",
       "    }\n",
       "\n",
       "    .dataframe tbody tr th {\n",
       "        vertical-align: top;\n",
       "    }\n",
       "\n",
       "    .dataframe thead th {\n",
       "        text-align: right;\n",
       "    }\n",
       "</style>\n",
       "<table border=\"1\" class=\"dataframe\">\n",
       "  <thead>\n",
       "    <tr style=\"text-align: right;\">\n",
       "      <th></th>\n",
       "      <th>aX</th>\n",
       "      <th>aY</th>\n",
       "      <th>aZ</th>\n",
       "      <th>gX</th>\n",
       "      <th>gY</th>\n",
       "      <th>gZ</th>\n",
       "    </tr>\n",
       "  </thead>\n",
       "  <tbody>\n",
       "    <tr>\n",
       "      <th>0</th>\n",
       "      <td>-327.413887</td>\n",
       "      <td>-13504.049953</td>\n",
       "      <td>6529.079764</td>\n",
       "      <td>-0.136883</td>\n",
       "      <td>-71.989311</td>\n",
       "      <td>-9.353248</td>\n",
       "    </tr>\n",
       "    <tr>\n",
       "      <th>1</th>\n",
       "      <td>4941.384612</td>\n",
       "      <td>-11268.250156</td>\n",
       "      <td>11934.321024</td>\n",
       "      <td>38.410029</td>\n",
       "      <td>22.187801</td>\n",
       "      <td>2.994291</td>\n",
       "    </tr>\n",
       "    <tr>\n",
       "      <th>2</th>\n",
       "      <td>3641.011171</td>\n",
       "      <td>-11696.037716</td>\n",
       "      <td>10609.905233</td>\n",
       "      <td>26.621994</td>\n",
       "      <td>-1.675077</td>\n",
       "      <td>-3.370447</td>\n",
       "    </tr>\n",
       "    <tr>\n",
       "      <th>3</th>\n",
       "      <td>4406.232679</td>\n",
       "      <td>-11317.273458</td>\n",
       "      <td>11331.681110</td>\n",
       "      <td>28.724171</td>\n",
       "      <td>6.109321</td>\n",
       "      <td>-4.310424</td>\n",
       "    </tr>\n",
       "    <tr>\n",
       "      <th>4</th>\n",
       "      <td>3867.966401</td>\n",
       "      <td>-11430.841427</td>\n",
       "      <td>10765.615639</td>\n",
       "      <td>25.646787</td>\n",
       "      <td>-4.107055</td>\n",
       "      <td>-6.653825</td>\n",
       "    </tr>\n",
       "    <tr>\n",
       "      <th>...</th>\n",
       "      <td>...</td>\n",
       "      <td>...</td>\n",
       "      <td>...</td>\n",
       "      <td>...</td>\n",
       "      <td>...</td>\n",
       "      <td>...</td>\n",
       "    </tr>\n",
       "    <tr>\n",
       "      <th>7670316</th>\n",
       "      <td>-1947.219371</td>\n",
       "      <td>-6290.409692</td>\n",
       "      <td>14859.560044</td>\n",
       "      <td>-128.156828</td>\n",
       "      <td>-881.289010</td>\n",
       "      <td>-327.741816</td>\n",
       "    </tr>\n",
       "    <tr>\n",
       "      <th>7670317</th>\n",
       "      <td>-1437.462498</td>\n",
       "      <td>-7873.796836</td>\n",
       "      <td>14145.107683</td>\n",
       "      <td>221.172719</td>\n",
       "      <td>-890.934394</td>\n",
       "      <td>-355.036181</td>\n",
       "    </tr>\n",
       "    <tr>\n",
       "      <th>7670318</th>\n",
       "      <td>-670.220870</td>\n",
       "      <td>-8664.367929</td>\n",
       "      <td>13849.799759</td>\n",
       "      <td>166.402969</td>\n",
       "      <td>-674.334781</td>\n",
       "      <td>-419.320113</td>\n",
       "    </tr>\n",
       "    <tr>\n",
       "      <th>7670319</th>\n",
       "      <td>-502.559918</td>\n",
       "      <td>-8537.099957</td>\n",
       "      <td>13400.581755</td>\n",
       "      <td>13.182115</td>\n",
       "      <td>-333.486889</td>\n",
       "      <td>-517.473159</td>\n",
       "    </tr>\n",
       "    <tr>\n",
       "      <th>7670320</th>\n",
       "      <td>-906.613274</td>\n",
       "      <td>-8469.489239</td>\n",
       "      <td>13232.679780</td>\n",
       "      <td>-109.450715</td>\n",
       "      <td>16.010452</td>\n",
       "      <td>-608.187722</td>\n",
       "    </tr>\n",
       "  </tbody>\n",
       "</table>\n",
       "<p>7670321 rows × 6 columns</p>\n",
       "</div>"
      ],
      "text/plain": [
       "                  aX            aY            aZ          gX          gY  \\\n",
       "0        -327.413887 -13504.049953   6529.079764   -0.136883  -71.989311   \n",
       "1        4941.384612 -11268.250156  11934.321024   38.410029   22.187801   \n",
       "2        3641.011171 -11696.037716  10609.905233   26.621994   -1.675077   \n",
       "3        4406.232679 -11317.273458  11331.681110   28.724171    6.109321   \n",
       "4        3867.966401 -11430.841427  10765.615639   25.646787   -4.107055   \n",
       "...              ...           ...           ...         ...         ...   \n",
       "7670316 -1947.219371  -6290.409692  14859.560044 -128.156828 -881.289010   \n",
       "7670317 -1437.462498  -7873.796836  14145.107683  221.172719 -890.934394   \n",
       "7670318  -670.220870  -8664.367929  13849.799759  166.402969 -674.334781   \n",
       "7670319  -502.559918  -8537.099957  13400.581755   13.182115 -333.486889   \n",
       "7670320  -906.613274  -8469.489239  13232.679780 -109.450715   16.010452   \n",
       "\n",
       "                 gZ  \n",
       "0         -9.353248  \n",
       "1          2.994291  \n",
       "2         -3.370447  \n",
       "3         -4.310424  \n",
       "4         -6.653825  \n",
       "...             ...  \n",
       "7670316 -327.741816  \n",
       "7670317 -355.036181  \n",
       "7670318 -419.320113  \n",
       "7670319 -517.473159  \n",
       "7670320 -608.187722  \n",
       "\n",
       "[7670321 rows x 6 columns]"
      ]
     },
     "execution_count": 160,
     "metadata": {},
     "output_type": "execute_result"
    }
   ],
   "source": [
    "Left[['aX','aY','aZ','gX','gY','gZ']] "
   ]
  },
  {
   "cell_type": "code",
   "execution_count": 175,
   "metadata": {},
   "outputs": [],
   "source": [
    "# RightLeft = pd.concat([Right[['aX','aY','aZ','gX','gY','gZ']] , Left[['aX','aY','aZ','gX','gY','gZ']] ], axis=1)\n",
    "#numpyRightLeft=RightLeft.to_numpy()\n",
    "#np.save('numpyRightLeft.npy',numpyRightLeft)\n",
    "#np.load('numpyRightLeft.npy').astype(np.float64).shape"
   ]
  }
 ],
 "metadata": {
  "kernelspec": {
   "display_name": "Python 3",
   "language": "python",
   "name": "python3"
  },
  "language_info": {
   "codemirror_mode": {
    "name": "ipython",
    "version": 3
   },
   "file_extension": ".py",
   "mimetype": "text/x-python",
   "name": "python",
   "nbconvert_exporter": "python",
   "pygments_lexer": "ipython3",
   "version": "3.8.5"
  }
 },
 "nbformat": 4,
 "nbformat_minor": 4
}
